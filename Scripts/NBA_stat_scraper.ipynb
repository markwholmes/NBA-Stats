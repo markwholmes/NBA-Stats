{
 "cells": [
  {
   "cell_type": "markdown",
   "metadata": {},
   "source": [
    "### Getting url page through selenium webdriver\n",
    "\n",
    "I originally tried this using just the BeautifulSoup package. However, the data within the html is being accessed/created/whatever through javascript. Someone on the internet in stackoverflow said that you need to use selenium to access the webpage then. "
   ]
  },
  {
   "cell_type": "code",
   "execution_count": 1,
   "metadata": {},
   "outputs": [],
   "source": [
    "from selenium import webdriver\n",
    "from bs4 import BeautifulSoup"
   ]
  },
  {
   "cell_type": "code",
   "execution_count": 2,
   "metadata": {},
   "outputs": [],
   "source": [
    "url='https://stats.nba.com/players/traditional/'\n",
    "\n",
    "driver = webdriver.Chrome()\n",
    "driver.get(url)\n",
    "\n",
    "page = driver.page_source"
   ]
  },
  {
   "cell_type": "markdown",
   "metadata": {},
   "source": [
    "### Getting web page elements"
   ]
  },
  {
   "cell_type": "code",
   "execution_count": 3,
   "metadata": {},
   "outputs": [],
   "source": [
    "# this is the path for the data table header\n",
    "header_xpath = '/html/body/main/div[2]/div/div[2]/div/div/nba-stat-table/div[2]/div[1]/table/thead'\n",
    "header = driver.find_element_by_xpath(header_xpath)\n",
    "\n",
    "# XML for path to actual stats\n",
    "results_xpath = '/html/body/main/div[2]/div/div[2]/div/div/nba-stat-table/div[2]/div[1]/table/tbody'\n",
    "\n",
    "# XML path to page drop down menu\n",
    "total_pages_xpath = '/html/body/main/div[2]/div/div[2]/div/div/nba-stat-table/div[3]/div/div/select'\n",
    "total_pages = driver.find_element_by_xpath(total_pages_xpath).text\n",
    "\n",
    "# XML path to the next page button\n",
    "next_page_xpath = '/html/body/main/div[2]/div/div[2]/div/div/nba-stat-table/div[3]/div/div/a[2]'\n",
    "# saving the next page button to call .click() function later\n",
    "next_page_button = driver.find_element_by_xpath(next_page_xpath)"
   ]
  },
  {
   "cell_type": "markdown",
   "metadata": {},
   "source": [
    "### Creating loop to go through each page of stats"
   ]
  },
  {
   "cell_type": "code",
   "execution_count": 5,
   "metadata": {},
   "outputs": [],
   "source": [
    "# defining some variables to be used in the loop\n",
    "loop_stop = int(total_pages[-1]) # takes the last page available in the dropdown menu\n",
    "loop_count = 1\n",
    "raw_stats = \"\"\n",
    "player_list = []\n",
    "stat_list = []\n",
    "\n",
    "while loop_count <= loop_stop:\n",
    "    results = driver.find_element_by_xpath(results_xpath)\n",
    "    loop_stats = results.text\n",
    "    \n",
    "    player_list += loop_stats.split(\"\\n\")[1::3]\n",
    "    stat_list += loop_stats.split(\"\\n\")[2::3]\n",
    "    \n",
    "    loop_count += 1\n",
    "    next_page_button.click()"
   ]
  },
  {
   "cell_type": "code",
   "execution_count": 6,
   "metadata": {},
   "outputs": [],
   "source": [
    "# splitting the header information to add at the beginning of each list\n",
    "header_player = header.text.split()[0]\n",
    "\n",
    "header_stats = header.text.split()[1:]"
   ]
  },
  {
   "cell_type": "code",
   "execution_count": 7,
   "metadata": {},
   "outputs": [],
   "source": [
    "driver.quit()"
   ]
  },
  {
   "cell_type": "markdown",
   "metadata": {},
   "source": [
    "### Converting web data into dataframe"
   ]
  },
  {
   "cell_type": "code",
   "execution_count": 8,
   "metadata": {},
   "outputs": [],
   "source": [
    "import pandas as pd\n",
    "import numpy as np"
   ]
  },
  {
   "cell_type": "code",
   "execution_count": 9,
   "metadata": {},
   "outputs": [],
   "source": [
    "# The values are returned as a list item. Each item is a full row of data separated by spaces. \n",
    "# For each row of data, I am splitting by spaces and saving to a dictionary with the Player Name as the key\n",
    "value_list = []\n",
    "for value in stat_list:\n",
    "    value_list.append(value.split())\n",
    "\n",
    "dictionary = dict(zip(player_list, value_list))"
   ]
  },
  {
   "cell_type": "code",
   "execution_count": 10,
   "metadata": {},
   "outputs": [],
   "source": [
    "# Saving the result into a dataframe\n",
    "\n",
    "df = pd.DataFrame.from_dict(dictionary,orient='index',columns=header_stats)"
   ]
  },
  {
   "cell_type": "code",
   "execution_count": 11,
   "metadata": {
    "scrolled": true
   },
   "outputs": [
    {
     "data": {
      "text/html": [
       "<div>\n",
       "<style scoped>\n",
       "    .dataframe tbody tr th:only-of-type {\n",
       "        vertical-align: middle;\n",
       "    }\n",
       "\n",
       "    .dataframe tbody tr th {\n",
       "        vertical-align: top;\n",
       "    }\n",
       "\n",
       "    .dataframe thead th {\n",
       "        text-align: right;\n",
       "    }\n",
       "</style>\n",
       "<table border=\"1\" class=\"dataframe\">\n",
       "  <thead>\n",
       "    <tr style=\"text-align: right;\">\n",
       "      <th></th>\n",
       "      <th>TEAM</th>\n",
       "      <th>AGE</th>\n",
       "      <th>GP</th>\n",
       "      <th>W</th>\n",
       "      <th>L</th>\n",
       "      <th>MIN</th>\n",
       "      <th>PTS</th>\n",
       "      <th>FGM</th>\n",
       "      <th>FGA</th>\n",
       "      <th>FG%</th>\n",
       "      <th>...</th>\n",
       "      <th>REB</th>\n",
       "      <th>AST</th>\n",
       "      <th>TOV</th>\n",
       "      <th>STL</th>\n",
       "      <th>BLK</th>\n",
       "      <th>PF</th>\n",
       "      <th>FP</th>\n",
       "      <th>DD2</th>\n",
       "      <th>TD3</th>\n",
       "      <th>+/-</th>\n",
       "    </tr>\n",
       "  </thead>\n",
       "  <tbody>\n",
       "    <tr>\n",
       "      <td>James Harden</td>\n",
       "      <td>HOU</td>\n",
       "      <td>30</td>\n",
       "      <td>8</td>\n",
       "      <td>5</td>\n",
       "      <td>3</td>\n",
       "      <td>35.3</td>\n",
       "      <td>36.5</td>\n",
       "      <td>9.3</td>\n",
       "      <td>23.9</td>\n",
       "      <td>38.7</td>\n",
       "      <td>...</td>\n",
       "      <td>5.0</td>\n",
       "      <td>8.1</td>\n",
       "      <td>5.8</td>\n",
       "      <td>1.3</td>\n",
       "      <td>0.8</td>\n",
       "      <td>3.3</td>\n",
       "      <td>54.9</td>\n",
       "      <td>3</td>\n",
       "      <td>0</td>\n",
       "      <td>0.9</td>\n",
       "    </tr>\n",
       "    <tr>\n",
       "      <td>Kyrie Irving</td>\n",
       "      <td>BKN</td>\n",
       "      <td>27</td>\n",
       "      <td>7</td>\n",
       "      <td>3</td>\n",
       "      <td>4</td>\n",
       "      <td>33.8</td>\n",
       "      <td>31.7</td>\n",
       "      <td>10.7</td>\n",
       "      <td>22.7</td>\n",
       "      <td>47.2</td>\n",
       "      <td>...</td>\n",
       "      <td>6.1</td>\n",
       "      <td>7.7</td>\n",
       "      <td>2.9</td>\n",
       "      <td>1.3</td>\n",
       "      <td>0.6</td>\n",
       "      <td>2.7</td>\n",
       "      <td>53.4</td>\n",
       "      <td>2</td>\n",
       "      <td>1</td>\n",
       "      <td>4.4</td>\n",
       "    </tr>\n",
       "    <tr>\n",
       "      <td>Damian Lillard</td>\n",
       "      <td>POR</td>\n",
       "      <td>29</td>\n",
       "      <td>7</td>\n",
       "      <td>3</td>\n",
       "      <td>4</td>\n",
       "      <td>37.7</td>\n",
       "      <td>31.1</td>\n",
       "      <td>10.6</td>\n",
       "      <td>21.4</td>\n",
       "      <td>49.3</td>\n",
       "      <td>...</td>\n",
       "      <td>5.0</td>\n",
       "      <td>7.3</td>\n",
       "      <td>2.6</td>\n",
       "      <td>1.3</td>\n",
       "      <td>0.6</td>\n",
       "      <td>2.3</td>\n",
       "      <td>51.1</td>\n",
       "      <td>1</td>\n",
       "      <td>0</td>\n",
       "      <td>4.6</td>\n",
       "    </tr>\n",
       "    <tr>\n",
       "      <td>Kawhi Leonard</td>\n",
       "      <td>LAC</td>\n",
       "      <td>28</td>\n",
       "      <td>6</td>\n",
       "      <td>5</td>\n",
       "      <td>1</td>\n",
       "      <td>30.5</td>\n",
       "      <td>29.3</td>\n",
       "      <td>10.7</td>\n",
       "      <td>22.5</td>\n",
       "      <td>47.4</td>\n",
       "      <td>...</td>\n",
       "      <td>7.3</td>\n",
       "      <td>5.7</td>\n",
       "      <td>3.0</td>\n",
       "      <td>2.3</td>\n",
       "      <td>1.0</td>\n",
       "      <td>2.7</td>\n",
       "      <td>53.6</td>\n",
       "      <td>2</td>\n",
       "      <td>0</td>\n",
       "      <td>11.7</td>\n",
       "    </tr>\n",
       "    <tr>\n",
       "      <td>Giannis Antetokounmpo</td>\n",
       "      <td>MIL</td>\n",
       "      <td>24</td>\n",
       "      <td>8</td>\n",
       "      <td>6</td>\n",
       "      <td>2</td>\n",
       "      <td>32.2</td>\n",
       "      <td>29.0</td>\n",
       "      <td>10.5</td>\n",
       "      <td>17.8</td>\n",
       "      <td>59.2</td>\n",
       "      <td>...</td>\n",
       "      <td>14.3</td>\n",
       "      <td>7.6</td>\n",
       "      <td>4.0</td>\n",
       "      <td>1.3</td>\n",
       "      <td>1.6</td>\n",
       "      <td>4.1</td>\n",
       "      <td>62.2</td>\n",
       "      <td>8</td>\n",
       "      <td>1</td>\n",
       "      <td>10.4</td>\n",
       "    </tr>\n",
       "  </tbody>\n",
       "</table>\n",
       "<p>5 rows × 28 columns</p>\n",
       "</div>"
      ],
      "text/plain": [
       "                      TEAM AGE GP  W  L   MIN   PTS   FGM   FGA   FG%  ...  \\\n",
       "James Harden           HOU  30  8  5  3  35.3  36.5   9.3  23.9  38.7  ...   \n",
       "Kyrie Irving           BKN  27  7  3  4  33.8  31.7  10.7  22.7  47.2  ...   \n",
       "Damian Lillard         POR  29  7  3  4  37.7  31.1  10.6  21.4  49.3  ...   \n",
       "Kawhi Leonard          LAC  28  6  5  1  30.5  29.3  10.7  22.5  47.4  ...   \n",
       "Giannis Antetokounmpo  MIL  24  8  6  2  32.2  29.0  10.5  17.8  59.2  ...   \n",
       "\n",
       "                        REB  AST  TOV  STL  BLK   PF    FP DD2 TD3   +/-  \n",
       "James Harden            5.0  8.1  5.8  1.3  0.8  3.3  54.9   3   0   0.9  \n",
       "Kyrie Irving            6.1  7.7  2.9  1.3  0.6  2.7  53.4   2   1   4.4  \n",
       "Damian Lillard          5.0  7.3  2.6  1.3  0.6  2.3  51.1   1   0   4.6  \n",
       "Kawhi Leonard           7.3  5.7  3.0  2.3  1.0  2.7  53.6   2   0  11.7  \n",
       "Giannis Antetokounmpo  14.3  7.6  4.0  1.3  1.6  4.1  62.2   8   1  10.4  \n",
       "\n",
       "[5 rows x 28 columns]"
      ]
     },
     "execution_count": 11,
     "metadata": {},
     "output_type": "execute_result"
    }
   ],
   "source": [
    "# Checking the df to make sure it's formatted correctly\n",
    "df.head()"
   ]
  },
  {
   "cell_type": "code",
   "execution_count": 12,
   "metadata": {},
   "outputs": [],
   "source": [
    "df.to_csv(r\"..\\\\Data\\\\Scraped_Stats.csv\",header=True)"
   ]
  },
  {
   "cell_type": "code",
   "execution_count": null,
   "metadata": {},
   "outputs": [],
   "source": []
  }
 ],
 "metadata": {
  "kernelspec": {
   "display_name": "Python 3",
   "language": "python",
   "name": "python3"
  },
  "language_info": {
   "codemirror_mode": {
    "name": "ipython",
    "version": 3
   },
   "file_extension": ".py",
   "mimetype": "text/x-python",
   "name": "python",
   "nbconvert_exporter": "python",
   "pygments_lexer": "ipython3",
   "version": "3.7.3"
  }
 },
 "nbformat": 4,
 "nbformat_minor": 2
}
