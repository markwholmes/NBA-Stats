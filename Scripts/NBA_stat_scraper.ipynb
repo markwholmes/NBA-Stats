{
 "cells": [
  {
   "cell_type": "markdown",
   "metadata": {},
   "source": [
    "### Getting url page through selenium webdriver\n",
    "\n",
    "I originally tried this using just the BeautifulSoup package. However, the data within the html is being accessed/created/whatever through javascript. Someone on the internet in stackoverflow said that you need to use selenium to access the webpage then. "
   ]
  },
  {
   "cell_type": "code",
   "execution_count": 1,
   "metadata": {},
   "outputs": [],
   "source": [
    "from selenium import webdriver\n",
    "from bs4 import BeautifulSoup"
   ]
  },
  {
   "cell_type": "code",
   "execution_count": 2,
   "metadata": {},
   "outputs": [],
   "source": [
    "url='https://stats.nba.com/players/traditional/'\n",
    "\n",
    "driver = webdriver.Chrome()\n",
    "driver.get(url)\n",
    "\n",
    "page = driver.page_source"
   ]
  },
  {
   "cell_type": "markdown",
   "metadata": {},
   "source": [
    "### Setting up accessing multiple pages of the table"
   ]
  },
  {
   "cell_type": "code",
   "execution_count": 3,
   "metadata": {},
   "outputs": [],
   "source": [
    "# XML path to the total number of pages: /html/body/main/div[2]/div/div[2]/div/div/nba-stat-table/div[3]/div/div/text()[2]\n",
    "#total_pages_xpath = '/html/body/main/div[2]/div/div[2]/div/div/nba-stat-table/div[3]/div/div/text()[2]'\n",
    "#total_pages = driver.find_element_by_xpath(total_pages_xpath)\n",
    "\n",
    "# XML path to the next page button: /html/body/main/div[2]/div/div[2]/div/div/nba-stat-table/div[3]/div/div/a[2]\n",
    "next_page_xpath = '/html/body/main/div[2]/div/div[2]/div/div/nba-stat-table/div[3]/div/div/a[2]'\n",
    "next_page_button = driver.find_element_by_xpath(next_page_xpath)\n",
    "#next_page_button.click()\n"
   ]
  },
  {
   "cell_type": "markdown",
   "metadata": {},
   "source": [
    "### Getting web page elements"
   ]
  },
  {
   "cell_type": "code",
   "execution_count": 4,
   "metadata": {},
   "outputs": [],
   "source": [
    "# this is the path for the data table header\n",
    "header_xpath = '/html/body/main/div[2]/div/div[2]/div/div/nba-stat-table/div[2]/div[1]/table/thead'\n",
    "header = driver.find_element_by_xpath(header_xpath)\n",
    "\n",
    "# this is the xml path for the element that contains the actual stats for the players\n",
    "#results_xpath = '/html/body/main/div[2]/div/div[2]/div/div/nba-stat-table/div[2]/div[1]/table/tbody'\n",
    "\n",
    "#results = driver.find_element_by_xpath(results_xpath)\n"
   ]
  },
  {
   "cell_type": "code",
   "execution_count": 5,
   "metadata": {},
   "outputs": [],
   "source": [
    "# keeping cell for print testing\n"
   ]
  },
  {
   "cell_type": "code",
   "execution_count": 6,
   "metadata": {
    "scrolled": true
   },
   "outputs": [],
   "source": [
    "#raw_stats = results.text"
   ]
  },
  {
   "cell_type": "markdown",
   "metadata": {},
   "source": [
    "### Creating loop to go through each page of stats"
   ]
  },
  {
   "cell_type": "code",
   "execution_count": 7,
   "metadata": {},
   "outputs": [],
   "source": [
    "# defining some variables to be used in the loop\n",
    "results_xpath = '/html/body/main/div[2]/div/div[2]/div/div/nba-stat-table/div[2]/div[1]/table/tbody'\n",
    "next_page_button = driver.find_element_by_xpath(next_page_xpath)\n",
    "loop_stop = 9\n",
    "loop_count = 1\n",
    "raw_stats = \"\"\n",
    "player_list = []\n",
    "stat_list = []\n",
    "\n",
    "while loop_count <= 9:\n",
    "    results = driver.find_element_by_xpath(results_xpath)\n",
    "    loop_stats = results.text\n",
    "    \n",
    "    #players = \n",
    "    #stat = \n",
    "    \n",
    "    player_list += loop_stats.split(\"\\n\")[1::3]\n",
    "    stat_list += loop_stats.split(\"\\n\")[2::3]\n",
    "    \n",
    "    loop_count += 1\n",
    "    next_page_button.click()"
   ]
  },
  {
   "cell_type": "code",
   "execution_count": null,
   "metadata": {},
   "outputs": [],
   "source": []
  },
  {
   "cell_type": "code",
   "execution_count": null,
   "metadata": {},
   "outputs": [],
   "source": []
  },
  {
   "cell_type": "code",
   "execution_count": 8,
   "metadata": {},
   "outputs": [],
   "source": [
    "# splitting the header information to add at the beginning of each list\n",
    "header_player = header.text.split()[0]\n",
    "\n",
    "header_stats = header.text.split()[1:]"
   ]
  },
  {
   "cell_type": "code",
   "execution_count": 9,
   "metadata": {},
   "outputs": [],
   "source": [
    "# starting with the first line, every 3rd line is a useless number counting the number of entries on the table. \n",
    "#my_drop_list = raw_stats.split(\"\\n\")[::3]\n",
    "\n",
    "#player_list = raw_stats.split(\"\\n\")[1::3]\n",
    "#player_list.insert(0,header_player) #inserting the str value of header_player into a list\n",
    "\n",
    "#stat_list = raw_stats.split(\"\\n\")[2::3] \n",
    "#stat_list = header_stats + raw_stats.split(\"\\n\")[2::3] "
   ]
  },
  {
   "cell_type": "code",
   "execution_count": 10,
   "metadata": {},
   "outputs": [],
   "source": [
    "#dict = {}\n",
    "#for key in player_list:\n",
    "   # for value in stat_list:\n",
    "       # dict[key] = value.split()\n",
    "        "
   ]
  },
  {
   "cell_type": "code",
   "execution_count": 11,
   "metadata": {},
   "outputs": [],
   "source": [
    "driver.quit()"
   ]
  },
  {
   "cell_type": "code",
   "execution_count": 25,
   "metadata": {},
   "outputs": [],
   "source": [
    "\n",
    "value_list = []\n",
    "for value in stat_list:\n",
    "    value_list.append(value.split())\n",
    "\n",
    "dictionary = dict(zip(player_list, value_list))\n"
   ]
  },
  {
   "cell_type": "code",
   "execution_count": null,
   "metadata": {},
   "outputs": [],
   "source": []
  },
  {
   "cell_type": "markdown",
   "metadata": {},
   "source": [
    "### Converting web data into dataframe"
   ]
  },
  {
   "cell_type": "code",
   "execution_count": 31,
   "metadata": {},
   "outputs": [],
   "source": [
    "import pandas as pd\n",
    "import numpy as np"
   ]
  },
  {
   "cell_type": "code",
   "execution_count": 101,
   "metadata": {},
   "outputs": [],
   "source": [
    "# Saving the result into a dataframe\n",
    "\n",
    "df = pd.DataFrame.from_dict(dictionary,orient='index',columns=header_stats)\n",
    "\n",
    "df.loc[:, df.columns != 'TEAM'] = (df.loc[:, df.columns != 'TEAM']).apply(pd.to_numeric)\n",
    "\n"
   ]
  },
  {
   "cell_type": "code",
   "execution_count": 102,
   "metadata": {
    "scrolled": true
   },
   "outputs": [
    {
     "name": "stdout",
     "output_type": "stream",
     "text": [
      "<class 'pandas.core.frame.DataFrame'>\n",
      "Index: 411 entries, James Harden to Zach Norvell Jr.\n",
      "Data columns (total 28 columns):\n",
      "TEAM    411 non-null object\n",
      "AGE     411 non-null object\n",
      "GP      411 non-null object\n",
      "W       411 non-null object\n",
      "L       411 non-null object\n",
      "MIN     411 non-null object\n",
      "PTS     411 non-null object\n",
      "FGM     411 non-null object\n",
      "FGA     411 non-null object\n",
      "FG%     411 non-null object\n",
      "3PM     411 non-null object\n",
      "3PA     411 non-null object\n",
      "3P%     411 non-null object\n",
      "FTM     411 non-null object\n",
      "FTA     411 non-null object\n",
      "FT%     411 non-null object\n",
      "OREB    411 non-null object\n",
      "DREB    411 non-null object\n",
      "REB     411 non-null object\n",
      "AST     411 non-null object\n",
      "TOV     411 non-null object\n",
      "STL     411 non-null object\n",
      "BLK     411 non-null object\n",
      "PF      411 non-null object\n",
      "FP      411 non-null object\n",
      "DD2     411 non-null object\n",
      "TD3     411 non-null object\n",
      "+/-     411 non-null object\n",
      "dtypes: object(28)\n",
      "memory usage: 93.1+ KB\n"
     ]
    }
   ],
   "source": [
    "#keeping cell open for print testing\n"
   ]
  },
  {
   "cell_type": "code",
   "execution_count": null,
   "metadata": {},
   "outputs": [],
   "source": []
  },
  {
   "cell_type": "code",
   "execution_count": null,
   "metadata": {},
   "outputs": [],
   "source": []
  }
 ],
 "metadata": {
  "kernelspec": {
   "display_name": "Python 3",
   "language": "python",
   "name": "python3"
  },
  "language_info": {
   "codemirror_mode": {
    "name": "ipython",
    "version": 3
   },
   "file_extension": ".py",
   "mimetype": "text/x-python",
   "name": "python",
   "nbconvert_exporter": "python",
   "pygments_lexer": "ipython3",
   "version": "3.7.3"
  }
 },
 "nbformat": 4,
 "nbformat_minor": 2
}
