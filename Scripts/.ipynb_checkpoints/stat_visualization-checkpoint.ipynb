{
 "cells": [
  {
   "cell_type": "markdown",
   "metadata": {},
   "source": [
    "# NBA Stat Visualization\n",
    "\n",
    "This script takes in data from the ```NBA_stat_scraper.ipynb``` output ```Scraped_Stats.csv```\n",
    "\n",
    "At this moment, I am not sure what I want to show. But I will start with just some of the basics to help practice visualizing in python and building interactive dashboards."
   ]
  },
  {
   "cell_type": "markdown",
   "metadata": {},
   "source": [
    "### Import Data"
   ]
  },
  {
   "cell_type": "code",
   "execution_count": 1,
   "metadata": {},
   "outputs": [],
   "source": [
    "import numpy as np\n",
    "import pandas as pd"
   ]
  },
  {
   "cell_type": "code",
   "execution_count": 9,
   "metadata": {},
   "outputs": [],
   "source": [
    "df = pd.read_csv(r\"..\\\\Data\\\\Scraped_Stats.csv\",index_col=[0])"
   ]
  },
  {
   "cell_type": "markdown",
   "metadata": {},
   "source": [
    "### Data overview"
   ]
  },
  {
   "cell_type": "code",
   "execution_count": 10,
   "metadata": {},
   "outputs": [
    {
     "data": {
      "text/html": [
       "<div>\n",
       "<style scoped>\n",
       "    .dataframe tbody tr th:only-of-type {\n",
       "        vertical-align: middle;\n",
       "    }\n",
       "\n",
       "    .dataframe tbody tr th {\n",
       "        vertical-align: top;\n",
       "    }\n",
       "\n",
       "    .dataframe thead th {\n",
       "        text-align: right;\n",
       "    }\n",
       "</style>\n",
       "<table border=\"1\" class=\"dataframe\">\n",
       "  <thead>\n",
       "    <tr style=\"text-align: right;\">\n",
       "      <th></th>\n",
       "      <th>TEAM</th>\n",
       "      <th>AGE</th>\n",
       "      <th>GP</th>\n",
       "      <th>W</th>\n",
       "      <th>L</th>\n",
       "      <th>MIN</th>\n",
       "      <th>PTS</th>\n",
       "      <th>FGM</th>\n",
       "      <th>FGA</th>\n",
       "      <th>FG%</th>\n",
       "      <th>...</th>\n",
       "      <th>REB</th>\n",
       "      <th>AST</th>\n",
       "      <th>TOV</th>\n",
       "      <th>STL</th>\n",
       "      <th>BLK</th>\n",
       "      <th>PF</th>\n",
       "      <th>FP</th>\n",
       "      <th>DD2</th>\n",
       "      <th>TD3</th>\n",
       "      <th>+/-</th>\n",
       "    </tr>\n",
       "  </thead>\n",
       "  <tbody>\n",
       "    <tr>\n",
       "      <td>James Harden</td>\n",
       "      <td>HOU</td>\n",
       "      <td>30</td>\n",
       "      <td>8</td>\n",
       "      <td>5</td>\n",
       "      <td>3</td>\n",
       "      <td>35.3</td>\n",
       "      <td>36.5</td>\n",
       "      <td>9.3</td>\n",
       "      <td>23.9</td>\n",
       "      <td>38.7</td>\n",
       "      <td>...</td>\n",
       "      <td>5.0</td>\n",
       "      <td>8.1</td>\n",
       "      <td>5.8</td>\n",
       "      <td>1.3</td>\n",
       "      <td>0.8</td>\n",
       "      <td>3.3</td>\n",
       "      <td>54.9</td>\n",
       "      <td>3</td>\n",
       "      <td>0</td>\n",
       "      <td>0.9</td>\n",
       "    </tr>\n",
       "    <tr>\n",
       "      <td>Kyrie Irving</td>\n",
       "      <td>BKN</td>\n",
       "      <td>27</td>\n",
       "      <td>7</td>\n",
       "      <td>3</td>\n",
       "      <td>4</td>\n",
       "      <td>33.8</td>\n",
       "      <td>31.7</td>\n",
       "      <td>10.7</td>\n",
       "      <td>22.7</td>\n",
       "      <td>47.2</td>\n",
       "      <td>...</td>\n",
       "      <td>6.1</td>\n",
       "      <td>7.7</td>\n",
       "      <td>2.9</td>\n",
       "      <td>1.3</td>\n",
       "      <td>0.6</td>\n",
       "      <td>2.7</td>\n",
       "      <td>53.4</td>\n",
       "      <td>2</td>\n",
       "      <td>1</td>\n",
       "      <td>4.4</td>\n",
       "    </tr>\n",
       "    <tr>\n",
       "      <td>Damian Lillard</td>\n",
       "      <td>POR</td>\n",
       "      <td>29</td>\n",
       "      <td>7</td>\n",
       "      <td>3</td>\n",
       "      <td>4</td>\n",
       "      <td>37.7</td>\n",
       "      <td>31.1</td>\n",
       "      <td>10.6</td>\n",
       "      <td>21.4</td>\n",
       "      <td>49.3</td>\n",
       "      <td>...</td>\n",
       "      <td>5.0</td>\n",
       "      <td>7.3</td>\n",
       "      <td>2.6</td>\n",
       "      <td>1.3</td>\n",
       "      <td>0.6</td>\n",
       "      <td>2.3</td>\n",
       "      <td>51.1</td>\n",
       "      <td>1</td>\n",
       "      <td>0</td>\n",
       "      <td>4.6</td>\n",
       "    </tr>\n",
       "    <tr>\n",
       "      <td>Kawhi Leonard</td>\n",
       "      <td>LAC</td>\n",
       "      <td>28</td>\n",
       "      <td>6</td>\n",
       "      <td>5</td>\n",
       "      <td>1</td>\n",
       "      <td>30.5</td>\n",
       "      <td>29.3</td>\n",
       "      <td>10.7</td>\n",
       "      <td>22.5</td>\n",
       "      <td>47.4</td>\n",
       "      <td>...</td>\n",
       "      <td>7.3</td>\n",
       "      <td>5.7</td>\n",
       "      <td>3.0</td>\n",
       "      <td>2.3</td>\n",
       "      <td>1.0</td>\n",
       "      <td>2.7</td>\n",
       "      <td>53.6</td>\n",
       "      <td>2</td>\n",
       "      <td>0</td>\n",
       "      <td>11.7</td>\n",
       "    </tr>\n",
       "    <tr>\n",
       "      <td>Giannis Antetokounmpo</td>\n",
       "      <td>MIL</td>\n",
       "      <td>24</td>\n",
       "      <td>8</td>\n",
       "      <td>6</td>\n",
       "      <td>2</td>\n",
       "      <td>32.2</td>\n",
       "      <td>29.0</td>\n",
       "      <td>10.5</td>\n",
       "      <td>17.8</td>\n",
       "      <td>59.2</td>\n",
       "      <td>...</td>\n",
       "      <td>14.3</td>\n",
       "      <td>7.6</td>\n",
       "      <td>4.0</td>\n",
       "      <td>1.3</td>\n",
       "      <td>1.6</td>\n",
       "      <td>4.1</td>\n",
       "      <td>62.2</td>\n",
       "      <td>8</td>\n",
       "      <td>1</td>\n",
       "      <td>10.4</td>\n",
       "    </tr>\n",
       "  </tbody>\n",
       "</table>\n",
       "<p>5 rows × 28 columns</p>\n",
       "</div>"
      ],
      "text/plain": [
       "                      TEAM  AGE  GP  W  L   MIN   PTS   FGM   FGA   FG%  ...  \\\n",
       "James Harden           HOU   30   8  5  3  35.3  36.5   9.3  23.9  38.7  ...   \n",
       "Kyrie Irving           BKN   27   7  3  4  33.8  31.7  10.7  22.7  47.2  ...   \n",
       "Damian Lillard         POR   29   7  3  4  37.7  31.1  10.6  21.4  49.3  ...   \n",
       "Kawhi Leonard          LAC   28   6  5  1  30.5  29.3  10.7  22.5  47.4  ...   \n",
       "Giannis Antetokounmpo  MIL   24   8  6  2  32.2  29.0  10.5  17.8  59.2  ...   \n",
       "\n",
       "                        REB  AST  TOV  STL  BLK   PF    FP  DD2  TD3   +/-  \n",
       "James Harden            5.0  8.1  5.8  1.3  0.8  3.3  54.9    3    0   0.9  \n",
       "Kyrie Irving            6.1  7.7  2.9  1.3  0.6  2.7  53.4    2    1   4.4  \n",
       "Damian Lillard          5.0  7.3  2.6  1.3  0.6  2.3  51.1    1    0   4.6  \n",
       "Kawhi Leonard           7.3  5.7  3.0  2.3  1.0  2.7  53.6    2    0  11.7  \n",
       "Giannis Antetokounmpo  14.3  7.6  4.0  1.3  1.6  4.1  62.2    8    1  10.4  \n",
       "\n",
       "[5 rows x 28 columns]"
      ]
     },
     "execution_count": 10,
     "metadata": {},
     "output_type": "execute_result"
    }
   ],
   "source": [
    "df.head()"
   ]
  },
  {
   "cell_type": "code",
   "execution_count": 11,
   "metadata": {},
   "outputs": [
    {
     "name": "stdout",
     "output_type": "stream",
     "text": [
      "<class 'pandas.core.frame.DataFrame'>\n",
      "Index: 416 entries, James Harden to Zach Norvell Jr.\n",
      "Data columns (total 28 columns):\n",
      "TEAM    416 non-null object\n",
      "AGE     416 non-null int64\n",
      "GP      416 non-null int64\n",
      "W       416 non-null int64\n",
      "L       416 non-null int64\n",
      "MIN     416 non-null float64\n",
      "PTS     416 non-null float64\n",
      "FGM     416 non-null float64\n",
      "FGA     416 non-null float64\n",
      "FG%     416 non-null float64\n",
      "3PM     416 non-null float64\n",
      "3PA     416 non-null float64\n",
      "3P%     416 non-null float64\n",
      "FTM     416 non-null float64\n",
      "FTA     416 non-null float64\n",
      "FT%     416 non-null float64\n",
      "OREB    416 non-null float64\n",
      "DREB    416 non-null float64\n",
      "REB     416 non-null float64\n",
      "AST     416 non-null float64\n",
      "TOV     416 non-null float64\n",
      "STL     416 non-null float64\n",
      "BLK     416 non-null float64\n",
      "PF      416 non-null float64\n",
      "FP      416 non-null float64\n",
      "DD2     416 non-null int64\n",
      "TD3     416 non-null int64\n",
      "+/-     416 non-null float64\n",
      "dtypes: float64(21), int64(6), object(1)\n",
      "memory usage: 94.2+ KB\n"
     ]
    }
   ],
   "source": [
    "df.info()"
   ]
  },
  {
   "cell_type": "code",
   "execution_count": 12,
   "metadata": {},
   "outputs": [
    {
     "data": {
      "text/html": [
       "<div>\n",
       "<style scoped>\n",
       "    .dataframe tbody tr th:only-of-type {\n",
       "        vertical-align: middle;\n",
       "    }\n",
       "\n",
       "    .dataframe tbody tr th {\n",
       "        vertical-align: top;\n",
       "    }\n",
       "\n",
       "    .dataframe thead th {\n",
       "        text-align: right;\n",
       "    }\n",
       "</style>\n",
       "<table border=\"1\" class=\"dataframe\">\n",
       "  <thead>\n",
       "    <tr style=\"text-align: right;\">\n",
       "      <th></th>\n",
       "      <th>AGE</th>\n",
       "      <th>GP</th>\n",
       "      <th>W</th>\n",
       "      <th>L</th>\n",
       "      <th>MIN</th>\n",
       "      <th>PTS</th>\n",
       "      <th>FGM</th>\n",
       "      <th>FGA</th>\n",
       "      <th>FG%</th>\n",
       "      <th>3PM</th>\n",
       "      <th>...</th>\n",
       "      <th>REB</th>\n",
       "      <th>AST</th>\n",
       "      <th>TOV</th>\n",
       "      <th>STL</th>\n",
       "      <th>BLK</th>\n",
       "      <th>PF</th>\n",
       "      <th>FP</th>\n",
       "      <th>DD2</th>\n",
       "      <th>TD3</th>\n",
       "      <th>+/-</th>\n",
       "    </tr>\n",
       "  </thead>\n",
       "  <tbody>\n",
       "    <tr>\n",
       "      <td>count</td>\n",
       "      <td>416.000000</td>\n",
       "      <td>416.000000</td>\n",
       "      <td>416.000000</td>\n",
       "      <td>416.000000</td>\n",
       "      <td>416.000000</td>\n",
       "      <td>416.000000</td>\n",
       "      <td>416.000000</td>\n",
       "      <td>416.000000</td>\n",
       "      <td>416.000000</td>\n",
       "      <td>416.000000</td>\n",
       "      <td>...</td>\n",
       "      <td>416.000000</td>\n",
       "      <td>416.000000</td>\n",
       "      <td>416.000000</td>\n",
       "      <td>416.000000</td>\n",
       "      <td>416.000000</td>\n",
       "      <td>416.000000</td>\n",
       "      <td>416.000000</td>\n",
       "      <td>416.000000</td>\n",
       "      <td>416.000000</td>\n",
       "      <td>416.000000</td>\n",
       "    </tr>\n",
       "    <tr>\n",
       "      <td>mean</td>\n",
       "      <td>25.591346</td>\n",
       "      <td>5.730769</td>\n",
       "      <td>2.884615</td>\n",
       "      <td>2.846154</td>\n",
       "      <td>19.906490</td>\n",
       "      <td>9.006971</td>\n",
       "      <td>3.282452</td>\n",
       "      <td>7.303606</td>\n",
       "      <td>42.155769</td>\n",
       "      <td>0.943269</td>\n",
       "      <td>...</td>\n",
       "      <td>3.823558</td>\n",
       "      <td>1.924279</td>\n",
       "      <td>1.294231</td>\n",
       "      <td>0.650962</td>\n",
       "      <td>0.432212</td>\n",
       "      <td>1.889904</td>\n",
       "      <td>18.431971</td>\n",
       "      <td>0.490385</td>\n",
       "      <td>0.031250</td>\n",
       "      <td>-0.160577</td>\n",
       "    </tr>\n",
       "    <tr>\n",
       "      <td>std</td>\n",
       "      <td>4.033154</td>\n",
       "      <td>2.297115</td>\n",
       "      <td>1.703619</td>\n",
       "      <td>1.787611</td>\n",
       "      <td>10.028957</td>\n",
       "      <td>6.836527</td>\n",
       "      <td>2.444183</td>\n",
       "      <td>5.068876</td>\n",
       "      <td>17.516058</td>\n",
       "      <td>0.908436</td>\n",
       "      <td>...</td>\n",
       "      <td>2.836946</td>\n",
       "      <td>1.883604</td>\n",
       "      <td>1.008645</td>\n",
       "      <td>0.556624</td>\n",
       "      <td>0.559966</td>\n",
       "      <td>1.066441</td>\n",
       "      <td>12.327441</td>\n",
       "      <td>1.188257</td>\n",
       "      <td>0.262489</td>\n",
       "      <td>5.029641</td>\n",
       "    </tr>\n",
       "    <tr>\n",
       "      <td>min</td>\n",
       "      <td>19.000000</td>\n",
       "      <td>1.000000</td>\n",
       "      <td>0.000000</td>\n",
       "      <td>0.000000</td>\n",
       "      <td>0.200000</td>\n",
       "      <td>0.000000</td>\n",
       "      <td>0.000000</td>\n",
       "      <td>0.000000</td>\n",
       "      <td>0.000000</td>\n",
       "      <td>0.000000</td>\n",
       "      <td>...</td>\n",
       "      <td>0.000000</td>\n",
       "      <td>0.000000</td>\n",
       "      <td>0.000000</td>\n",
       "      <td>0.000000</td>\n",
       "      <td>0.000000</td>\n",
       "      <td>0.000000</td>\n",
       "      <td>-1.000000</td>\n",
       "      <td>0.000000</td>\n",
       "      <td>0.000000</td>\n",
       "      <td>-21.000000</td>\n",
       "    </tr>\n",
       "    <tr>\n",
       "      <td>25%</td>\n",
       "      <td>22.000000</td>\n",
       "      <td>4.000000</td>\n",
       "      <td>1.000000</td>\n",
       "      <td>1.000000</td>\n",
       "      <td>12.475000</td>\n",
       "      <td>4.000000</td>\n",
       "      <td>1.500000</td>\n",
       "      <td>3.700000</td>\n",
       "      <td>36.400000</td>\n",
       "      <td>0.100000</td>\n",
       "      <td>...</td>\n",
       "      <td>1.700000</td>\n",
       "      <td>0.700000</td>\n",
       "      <td>0.600000</td>\n",
       "      <td>0.200000</td>\n",
       "      <td>0.000000</td>\n",
       "      <td>1.000000</td>\n",
       "      <td>9.575000</td>\n",
       "      <td>0.000000</td>\n",
       "      <td>0.000000</td>\n",
       "      <td>-3.400000</td>\n",
       "    </tr>\n",
       "    <tr>\n",
       "      <td>50%</td>\n",
       "      <td>25.000000</td>\n",
       "      <td>7.000000</td>\n",
       "      <td>3.000000</td>\n",
       "      <td>3.000000</td>\n",
       "      <td>20.800000</td>\n",
       "      <td>7.600000</td>\n",
       "      <td>2.900000</td>\n",
       "      <td>6.300000</td>\n",
       "      <td>43.800000</td>\n",
       "      <td>0.800000</td>\n",
       "      <td>...</td>\n",
       "      <td>3.300000</td>\n",
       "      <td>1.400000</td>\n",
       "      <td>1.000000</td>\n",
       "      <td>0.600000</td>\n",
       "      <td>0.300000</td>\n",
       "      <td>2.000000</td>\n",
       "      <td>16.600000</td>\n",
       "      <td>0.000000</td>\n",
       "      <td>0.000000</td>\n",
       "      <td>-0.100000</td>\n",
       "    </tr>\n",
       "    <tr>\n",
       "      <td>75%</td>\n",
       "      <td>28.000000</td>\n",
       "      <td>7.000000</td>\n",
       "      <td>4.000000</td>\n",
       "      <td>4.000000</td>\n",
       "      <td>28.250000</td>\n",
       "      <td>12.825000</td>\n",
       "      <td>4.600000</td>\n",
       "      <td>10.100000</td>\n",
       "      <td>50.000000</td>\n",
       "      <td>1.425000</td>\n",
       "      <td>...</td>\n",
       "      <td>5.100000</td>\n",
       "      <td>2.400000</td>\n",
       "      <td>1.800000</td>\n",
       "      <td>1.000000</td>\n",
       "      <td>0.600000</td>\n",
       "      <td>2.600000</td>\n",
       "      <td>25.900000</td>\n",
       "      <td>0.000000</td>\n",
       "      <td>0.000000</td>\n",
       "      <td>2.800000</td>\n",
       "    </tr>\n",
       "    <tr>\n",
       "      <td>max</td>\n",
       "      <td>42.000000</td>\n",
       "      <td>9.000000</td>\n",
       "      <td>6.000000</td>\n",
       "      <td>7.000000</td>\n",
       "      <td>39.000000</td>\n",
       "      <td>36.500000</td>\n",
       "      <td>10.700000</td>\n",
       "      <td>23.900000</td>\n",
       "      <td>100.000000</td>\n",
       "      <td>4.200000</td>\n",
       "      <td>...</td>\n",
       "      <td>18.600000</td>\n",
       "      <td>11.100000</td>\n",
       "      <td>5.800000</td>\n",
       "      <td>3.800000</td>\n",
       "      <td>4.000000</td>\n",
       "      <td>4.900000</td>\n",
       "      <td>62.200000</td>\n",
       "      <td>9.000000</td>\n",
       "      <td>3.000000</td>\n",
       "      <td>25.000000</td>\n",
       "    </tr>\n",
       "  </tbody>\n",
       "</table>\n",
       "<p>8 rows × 27 columns</p>\n",
       "</div>"
      ],
      "text/plain": [
       "              AGE          GP           W           L         MIN         PTS  \\\n",
       "count  416.000000  416.000000  416.000000  416.000000  416.000000  416.000000   \n",
       "mean    25.591346    5.730769    2.884615    2.846154   19.906490    9.006971   \n",
       "std      4.033154    2.297115    1.703619    1.787611   10.028957    6.836527   \n",
       "min     19.000000    1.000000    0.000000    0.000000    0.200000    0.000000   \n",
       "25%     22.000000    4.000000    1.000000    1.000000   12.475000    4.000000   \n",
       "50%     25.000000    7.000000    3.000000    3.000000   20.800000    7.600000   \n",
       "75%     28.000000    7.000000    4.000000    4.000000   28.250000   12.825000   \n",
       "max     42.000000    9.000000    6.000000    7.000000   39.000000   36.500000   \n",
       "\n",
       "              FGM         FGA         FG%         3PM  ...         REB  \\\n",
       "count  416.000000  416.000000  416.000000  416.000000  ...  416.000000   \n",
       "mean     3.282452    7.303606   42.155769    0.943269  ...    3.823558   \n",
       "std      2.444183    5.068876   17.516058    0.908436  ...    2.836946   \n",
       "min      0.000000    0.000000    0.000000    0.000000  ...    0.000000   \n",
       "25%      1.500000    3.700000   36.400000    0.100000  ...    1.700000   \n",
       "50%      2.900000    6.300000   43.800000    0.800000  ...    3.300000   \n",
       "75%      4.600000   10.100000   50.000000    1.425000  ...    5.100000   \n",
       "max     10.700000   23.900000  100.000000    4.200000  ...   18.600000   \n",
       "\n",
       "              AST         TOV         STL         BLK          PF          FP  \\\n",
       "count  416.000000  416.000000  416.000000  416.000000  416.000000  416.000000   \n",
       "mean     1.924279    1.294231    0.650962    0.432212    1.889904   18.431971   \n",
       "std      1.883604    1.008645    0.556624    0.559966    1.066441   12.327441   \n",
       "min      0.000000    0.000000    0.000000    0.000000    0.000000   -1.000000   \n",
       "25%      0.700000    0.600000    0.200000    0.000000    1.000000    9.575000   \n",
       "50%      1.400000    1.000000    0.600000    0.300000    2.000000   16.600000   \n",
       "75%      2.400000    1.800000    1.000000    0.600000    2.600000   25.900000   \n",
       "max     11.100000    5.800000    3.800000    4.000000    4.900000   62.200000   \n",
       "\n",
       "              DD2         TD3         +/-  \n",
       "count  416.000000  416.000000  416.000000  \n",
       "mean     0.490385    0.031250   -0.160577  \n",
       "std      1.188257    0.262489    5.029641  \n",
       "min      0.000000    0.000000  -21.000000  \n",
       "25%      0.000000    0.000000   -3.400000  \n",
       "50%      0.000000    0.000000   -0.100000  \n",
       "75%      0.000000    0.000000    2.800000  \n",
       "max      9.000000    3.000000   25.000000  \n",
       "\n",
       "[8 rows x 27 columns]"
      ]
     },
     "execution_count": 12,
     "metadata": {},
     "output_type": "execute_result"
    }
   ],
   "source": [
    "df.describe()"
   ]
  },
  {
   "cell_type": "markdown",
   "metadata": {},
   "source": [
    "# Visualization"
   ]
  },
  {
   "cell_type": "code",
   "execution_count": 13,
   "metadata": {},
   "outputs": [],
   "source": [
    "import seaborn as sns\n",
    "import plotly.express as px\n",
    "import matplotlib.pyplot as plt\n",
    "%matplotlib inline"
   ]
  },
  {
   "cell_type": "code",
   "execution_count": 20,
   "metadata": {},
   "outputs": [
    {
     "data": {
      "application/vnd.plotly.v1+json": {
       "config": {
        "plotlyServerURL": "https://plot.ly"
       },
       "data": [
        {
         "alignmentgroup": "True",
         "hoverlabel": {
          "namelength": 0
         },
         "hovertemplate": "TEAM=%{x}<br>PTS=%{y}",
         "legendgroup": "TEAM=HOU",
         "marker": {
          "color": "#636efa"
         },
         "name": "TEAM=HOU",
         "notched": false,
         "offsetgroup": "TEAM=HOU",
         "orientation": "v",
         "showlegend": true,
         "type": "box",
         "x": [
          "HOU",
          "HOU",
          "HOU",
          "HOU",
          "HOU",
          "HOU",
          "HOU",
          "HOU",
          "HOU",
          "HOU",
          "HOU",
          "HOU"
         ],
         "x0": " ",
         "xaxis": "x",
         "y": [
          36.5,
          20.7,
          13.5,
          13.1,
          11.5,
          10.3,
          6.9,
          5.9,
          5.3,
          2.5,
          1.9,
          1.8
         ],
         "y0": " ",
         "yaxis": "y"
        },
        {
         "alignmentgroup": "True",
         "hoverlabel": {
          "namelength": 0
         },
         "hovertemplate": "TEAM=%{x}<br>PTS=%{y}",
         "legendgroup": "TEAM=BKN",
         "marker": {
          "color": "#EF553B"
         },
         "name": "TEAM=BKN",
         "notched": false,
         "offsetgroup": "TEAM=BKN",
         "orientation": "v",
         "showlegend": true,
         "type": "box",
         "x": [
          "BKN",
          "BKN",
          "BKN",
          "BKN",
          "BKN",
          "BKN",
          "BKN",
          "BKN",
          "BKN",
          "BKN",
          "BKN",
          "BKN"
         ],
         "x0": " ",
         "xaxis": "x",
         "y": [
          31.7,
          19.4,
          15,
          15,
          14,
          9.1,
          7.1,
          6.1,
          2.3,
          2,
          0,
          0
         ],
         "y0": " ",
         "yaxis": "y"
        },
        {
         "alignmentgroup": "True",
         "hoverlabel": {
          "namelength": 0
         },
         "hovertemplate": "TEAM=%{x}<br>PTS=%{y}",
         "legendgroup": "TEAM=POR",
         "marker": {
          "color": "#00cc96"
         },
         "name": "TEAM=POR",
         "notched": false,
         "offsetgroup": "TEAM=POR",
         "orientation": "v",
         "showlegend": true,
         "type": "box",
         "x": [
          "POR",
          "POR",
          "POR",
          "POR",
          "POR",
          "POR",
          "POR",
          "POR",
          "POR",
          "POR",
          "POR",
          "POR"
         ],
         "x0": " ",
         "xaxis": "x",
         "y": [
          31.1,
          20.7,
          14.3,
          12.9,
          9.6,
          9,
          7.9,
          6.9,
          6.1,
          3.1,
          0,
          0
         ],
         "y0": " ",
         "yaxis": "y"
        },
        {
         "alignmentgroup": "True",
         "hoverlabel": {
          "namelength": 0
         },
         "hovertemplate": "TEAM=%{x}<br>PTS=%{y}",
         "legendgroup": "TEAM=LAC",
         "marker": {
          "color": "#ab63fa"
         },
         "name": "TEAM=LAC",
         "notched": false,
         "offsetgroup": "TEAM=LAC",
         "orientation": "v",
         "showlegend": true,
         "type": "box",
         "x": [
          "LAC",
          "LAC",
          "LAC",
          "LAC",
          "LAC",
          "LAC",
          "LAC",
          "LAC",
          "LAC",
          "LAC",
          "LAC",
          "LAC",
          "LAC",
          "LAC",
          "LAC"
         ],
         "x0": " ",
         "xaxis": "x",
         "y": [
          29.3,
          22,
          21.1,
          10.1,
          9.6,
          8.9,
          7.9,
          5,
          4.6,
          2.8,
          1.5,
          1,
          0.8,
          0,
          0
         ],
         "y0": " ",
         "yaxis": "y"
        },
        {
         "alignmentgroup": "True",
         "hoverlabel": {
          "namelength": 0
         },
         "hovertemplate": "TEAM=%{x}<br>PTS=%{y}",
         "legendgroup": "TEAM=MIL",
         "marker": {
          "color": "#FFA15A"
         },
         "name": "TEAM=MIL",
         "notched": false,
         "offsetgroup": "TEAM=MIL",
         "orientation": "v",
         "showlegend": true,
         "type": "box",
         "x": [
          "MIL",
          "MIL",
          "MIL",
          "MIL",
          "MIL",
          "MIL",
          "MIL",
          "MIL",
          "MIL",
          "MIL",
          "MIL",
          "MIL",
          "MIL",
          "MIL"
         ],
         "x0": " ",
         "xaxis": "x",
         "y": [
          29,
          18.6,
          14.5,
          11.4,
          10.4,
          8.6,
          7.8,
          7,
          6.9,
          5.3,
          4.1,
          4,
          2,
          1.7
         ],
         "y0": " ",
         "yaxis": "y"
        },
        {
         "alignmentgroup": "True",
         "hoverlabel": {
          "namelength": 0
         },
         "hovertemplate": "TEAM=%{x}<br>PTS=%{y}",
         "legendgroup": "TEAM=WAS",
         "marker": {
          "color": "#19d3f3"
         },
         "name": "TEAM=WAS",
         "notched": false,
         "offsetgroup": "TEAM=WAS",
         "orientation": "v",
         "showlegend": true,
         "type": "box",
         "x": [
          "WAS",
          "WAS",
          "WAS",
          "WAS",
          "WAS",
          "WAS",
          "WAS",
          "WAS",
          "WAS",
          "WAS",
          "WAS",
          "WAS",
          "WAS",
          "WAS",
          "WAS"
         ],
         "x0": " ",
         "xaxis": "x",
         "y": [
          27,
          13.6,
          13.6,
          13.5,
          13.1,
          12.6,
          11.1,
          9.8,
          7.7,
          5.5,
          4.7,
          4.4,
          3,
          1.7,
          0
         ],
         "y0": " ",
         "yaxis": "y"
        },
        {
         "alignmentgroup": "True",
         "hoverlabel": {
          "namelength": 0
         },
         "hovertemplate": "TEAM=%{x}<br>PTS=%{y}",
         "legendgroup": "TEAM=MIN",
         "marker": {
          "color": "#FF6692"
         },
         "name": "TEAM=MIN",
         "notched": false,
         "offsetgroup": "TEAM=MIN",
         "orientation": "v",
         "showlegend": true,
         "type": "box",
         "x": [
          "MIN",
          "MIN",
          "MIN",
          "MIN",
          "MIN",
          "MIN",
          "MIN",
          "MIN",
          "MIN",
          "MIN",
          "MIN",
          "MIN",
          "MIN",
          "MIN",
          "MIN"
         ],
         "x0": " ",
         "xaxis": "x",
         "y": [
          26.8,
          22.4,
          13.2,
          12.7,
          8.9,
          8,
          7.9,
          7.9,
          7.8,
          6.3,
          5.8,
          5,
          5,
          0,
          0
         ],
         "y0": " ",
         "yaxis": "y"
        },
        {
         "alignmentgroup": "True",
         "hoverlabel": {
          "namelength": 0
         },
         "hovertemplate": "TEAM=%{x}<br>PTS=%{y}",
         "legendgroup": "TEAM=DAL",
         "marker": {
          "color": "#B6E880"
         },
         "name": "TEAM=DAL",
         "notched": false,
         "offsetgroup": "TEAM=DAL",
         "orientation": "v",
         "showlegend": true,
         "type": "box",
         "x": [
          "DAL",
          "DAL",
          "DAL",
          "DAL",
          "DAL",
          "DAL",
          "DAL",
          "DAL",
          "DAL",
          "DAL",
          "DAL",
          "DAL",
          "DAL",
          "DAL"
         ],
         "x0": " ",
         "xaxis": "x",
         "y": [
          26.7,
          19,
          11,
          10.4,
          9.8,
          9.7,
          9.3,
          8.7,
          8,
          7.9,
          6.3,
          5.3,
          3,
          3
         ],
         "y0": " ",
         "yaxis": "y"
        },
        {
         "alignmentgroup": "True",
         "hoverlabel": {
          "namelength": 0
         },
         "hovertemplate": "TEAM=%{x}<br>PTS=%{y}",
         "legendgroup": "TEAM=LAL",
         "marker": {
          "color": "#FF97FF"
         },
         "name": "TEAM=LAL",
         "notched": false,
         "offsetgroup": "TEAM=LAL",
         "orientation": "v",
         "showlegend": true,
         "type": "box",
         "x": [
          "LAL",
          "LAL",
          "LAL",
          "LAL",
          "LAL",
          "LAL",
          "LAL",
          "LAL",
          "LAL",
          "LAL",
          "LAL",
          "LAL",
          "LAL",
          "LAL"
         ],
         "x0": " ",
         "xaxis": "x",
         "y": [
          26.6,
          26.1,
          10.7,
          10.6,
          9.7,
          6.9,
          6.7,
          6.3,
          5.4,
          5,
          3.8,
          1.2,
          0,
          0
         ],
         "y0": " ",
         "yaxis": "y"
        },
        {
         "alignmentgroup": "True",
         "hoverlabel": {
          "namelength": 0
         },
         "hovertemplate": "TEAM=%{x}<br>PTS=%{y}",
         "legendgroup": "TEAM=PHX",
         "marker": {
          "color": "#FECB52"
         },
         "name": "TEAM=PHX",
         "notched": false,
         "offsetgroup": "TEAM=PHX",
         "orientation": "v",
         "showlegend": true,
         "type": "box",
         "x": [
          "PHX",
          "PHX",
          "PHX",
          "PHX",
          "PHX",
          "PHX",
          "PHX",
          "PHX",
          "PHX",
          "PHX",
          "PHX",
          "PHX",
          "PHX",
          "PHX"
         ],
         "x0": " ",
         "xaxis": "x",
         "y": [
          26.1,
          18,
          17.4,
          15,
          12.7,
          11,
          8.9,
          7.1,
          5.7,
          5.2,
          4.7,
          2.3,
          2,
          0
         ],
         "y0": " ",
         "yaxis": "y"
        },
        {
         "alignmentgroup": "True",
         "hoverlabel": {
          "namelength": 0
         },
         "hovertemplate": "TEAM=%{x}<br>PTS=%{y}",
         "legendgroup": "TEAM=BOS",
         "marker": {
          "color": "#636efa"
         },
         "name": "TEAM=BOS",
         "notched": false,
         "offsetgroup": "TEAM=BOS",
         "orientation": "v",
         "showlegend": true,
         "type": "box",
         "x": [
          "BOS",
          "BOS",
          "BOS",
          "BOS",
          "BOS",
          "BOS",
          "BOS",
          "BOS",
          "BOS",
          "BOS",
          "BOS",
          "BOS",
          "BOS",
          "BOS",
          "BOS",
          "BOS"
         ],
         "x0": " ",
         "xaxis": "x",
         "y": [
          26,
          21.3,
          20.3,
          17.3,
          12,
          10.2,
          5.8,
          5,
          4.6,
          4,
          3.8,
          2.7,
          2,
          1.2,
          0,
          0
         ],
         "y0": " ",
         "yaxis": "y"
        },
        {
         "alignmentgroup": "True",
         "hoverlabel": {
          "namelength": 0
         },
         "hovertemplate": "TEAM=%{x}<br>PTS=%{y}",
         "legendgroup": "TEAM=NOP",
         "marker": {
          "color": "#EF553B"
         },
         "name": "TEAM=NOP",
         "notched": false,
         "offsetgroup": "TEAM=NOP",
         "orientation": "v",
         "showlegend": true,
         "type": "box",
         "x": [
          "NOP",
          "NOP",
          "NOP",
          "NOP",
          "NOP",
          "NOP",
          "NOP",
          "NOP",
          "NOP",
          "NOP",
          "NOP",
          "NOP",
          "NOP"
         ],
         "x0": " ",
         "xaxis": "x",
         "y": [
          25.9,
          14.2,
          13.6,
          12.4,
          11.7,
          10.6,
          9.9,
          7.8,
          6.8,
          6.5,
          6,
          5.1,
          4.3
         ],
         "y0": " ",
         "yaxis": "y"
        },
        {
         "alignmentgroup": "True",
         "hoverlabel": {
          "namelength": 0
         },
         "hovertemplate": "TEAM=%{x}<br>PTS=%{y}",
         "legendgroup": "TEAM=TOR",
         "marker": {
          "color": "#00cc96"
         },
         "name": "TEAM=TOR",
         "notched": false,
         "offsetgroup": "TEAM=TOR",
         "orientation": "v",
         "showlegend": true,
         "type": "box",
         "x": [
          "TOR",
          "TOR",
          "TOR",
          "TOR",
          "TOR",
          "TOR",
          "TOR",
          "TOR",
          "TOR",
          "TOR",
          "TOR",
          "TOR",
          "TOR",
          "TOR"
         ],
         "x0": " ",
         "xaxis": "x",
         "y": [
          25.6,
          24,
          15.6,
          14.9,
          12.7,
          7.4,
          7.1,
          4.8,
          4,
          2.5,
          2,
          1,
          0.8,
          0
         ],
         "y0": " ",
         "yaxis": "y"
        },
        {
         "alignmentgroup": "True",
         "hoverlabel": {
          "namelength": 0
         },
         "hovertemplate": "TEAM=%{x}<br>PTS=%{y}",
         "legendgroup": "TEAM=UTA",
         "marker": {
          "color": "#ab63fa"
         },
         "name": "TEAM=UTA",
         "notched": false,
         "offsetgroup": "TEAM=UTA",
         "orientation": "v",
         "showlegend": true,
         "type": "box",
         "x": [
          "UTA",
          "UTA",
          "UTA",
          "UTA",
          "UTA",
          "UTA",
          "UTA",
          "UTA",
          "UTA",
          "UTA",
          "UTA",
          "UTA",
          "UTA",
          "UTA"
         ],
         "x0": " ",
         "xaxis": "x",
         "y": [
          25.5,
          20.1,
          12.8,
          11.3,
          9,
          7.6,
          6,
          5.9,
          4.8,
          3.6,
          1.7,
          0,
          0,
          0
         ],
         "y0": " ",
         "yaxis": "y"
        },
        {
         "alignmentgroup": "True",
         "hoverlabel": {
          "namelength": 0
         },
         "hovertemplate": "TEAM=%{x}<br>PTS=%{y}",
         "legendgroup": "TEAM=PHI",
         "marker": {
          "color": "#FFA15A"
         },
         "name": "TEAM=PHI",
         "notched": false,
         "offsetgroup": "TEAM=PHI",
         "orientation": "v",
         "showlegend": true,
         "type": "box",
         "x": [
          "PHI",
          "PHI",
          "PHI",
          "PHI",
          "PHI",
          "PHI",
          "PHI",
          "PHI",
          "PHI",
          "PHI",
          "PHI",
          "PHI",
          "PHI"
         ],
         "x0": " ",
         "xaxis": "x",
         "y": [
          24.3,
          19.7,
          17.1,
          14.6,
          13.1,
          8.4,
          7.3,
          6.3,
          5.3,
          3.9,
          3.8,
          3.5,
          2
         ],
         "y0": " ",
         "yaxis": "y"
        },
        {
         "alignmentgroup": "True",
         "hoverlabel": {
          "namelength": 0
         },
         "hovertemplate": "TEAM=%{x}<br>PTS=%{y}",
         "legendgroup": "TEAM=ATL",
         "marker": {
          "color": "#19d3f3"
         },
         "name": "TEAM=ATL",
         "notched": false,
         "offsetgroup": "TEAM=ATL",
         "orientation": "v",
         "showlegend": true,
         "type": "box",
         "x": [
          "ATL",
          "ATL",
          "ATL",
          "ATL",
          "ATL",
          "ATL",
          "ATL",
          "ATL",
          "ATL",
          "ATL",
          "ATL",
          "ATL",
          "ATL",
          "ATL"
         ],
         "x0": " ",
         "xaxis": "x",
         "y": [
          24.2,
          17,
          15.1,
          9.6,
          8.9,
          7.1,
          6.1,
          5.7,
          5.5,
          5.1,
          4,
          4,
          3.3,
          2
         ],
         "y0": " ",
         "yaxis": "y"
        },
        {
         "alignmentgroup": "True",
         "hoverlabel": {
          "namelength": 0
         },
         "hovertemplate": "TEAM=%{x}<br>PTS=%{y}",
         "legendgroup": "TEAM=IND",
         "marker": {
          "color": "#FF6692"
         },
         "name": "TEAM=IND",
         "notched": false,
         "offsetgroup": "TEAM=IND",
         "orientation": "v",
         "showlegend": true,
         "type": "box",
         "x": [
          "IND",
          "IND",
          "IND",
          "IND",
          "IND",
          "IND",
          "IND",
          "IND",
          "IND",
          "IND",
          "IND",
          "IND",
          "IND",
          "IND"
         ],
         "x0": " ",
         "xaxis": "x",
         "y": [
          22.3,
          20.3,
          18,
          17,
          14.8,
          7.3,
          7.1,
          7,
          6.7,
          6,
          5.3,
          4.1,
          4,
          2
         ],
         "y0": " ",
         "yaxis": "y"
        },
        {
         "alignmentgroup": "True",
         "hoverlabel": {
          "namelength": 0
         },
         "hovertemplate": "TEAM=%{x}<br>PTS=%{y}",
         "legendgroup": "TEAM=OKC",
         "marker": {
          "color": "#B6E880"
         },
         "name": "TEAM=OKC",
         "notched": false,
         "offsetgroup": "TEAM=OKC",
         "orientation": "v",
         "showlegend": true,
         "type": "box",
         "x": [
          "OKC",
          "OKC",
          "OKC",
          "OKC",
          "OKC",
          "OKC",
          "OKC",
          "OKC",
          "OKC",
          "OKC",
          "OKC",
          "OKC",
          "OKC"
         ],
         "x0": " ",
         "xaxis": "x",
         "y": [
          22.1,
          17.7,
          15.6,
          13.6,
          9.4,
          7.3,
          7,
          5.7,
          3.1,
          3,
          2.2,
          1.5,
          0
         ],
         "y0": " ",
         "yaxis": "y"
        },
        {
         "alignmentgroup": "True",
         "hoverlabel": {
          "namelength": 0
         },
         "hovertemplate": "TEAM=%{x}<br>PTS=%{y}",
         "legendgroup": "TEAM=DET",
         "marker": {
          "color": "#FF97FF"
         },
         "name": "TEAM=DET",
         "notched": false,
         "offsetgroup": "TEAM=DET",
         "orientation": "v",
         "showlegend": true,
         "type": "box",
         "x": [
          "DET",
          "DET",
          "DET",
          "DET",
          "DET",
          "DET",
          "DET",
          "DET",
          "DET",
          "DET",
          "DET",
          "DET",
          "DET",
          "DET"
         ],
         "x0": " ",
         "xaxis": "x",
         "y": [
          21.9,
          20.8,
          16.8,
          11.9,
          10.1,
          9.7,
          8.8,
          7.9,
          5,
          4.5,
          4.2,
          2.9,
          0.5,
          0
         ],
         "y0": " ",
         "yaxis": "y"
        },
        {
         "alignmentgroup": "True",
         "hoverlabel": {
          "namelength": 0
         },
         "hovertemplate": "TEAM=%{x}<br>PTS=%{y}",
         "legendgroup": "TEAM=SAS",
         "marker": {
          "color": "#FECB52"
         },
         "name": "TEAM=SAS",
         "notched": false,
         "offsetgroup": "TEAM=SAS",
         "orientation": "v",
         "showlegend": true,
         "type": "box",
         "x": [
          "SAS",
          "SAS",
          "SAS",
          "SAS",
          "SAS",
          "SAS",
          "SAS",
          "SAS",
          "SAS",
          "SAS",
          "SAS",
          "SAS",
          "SAS",
          "SAS"
         ],
         "x0": " ",
         "xaxis": "x",
         "y": [
          20.6,
          16.1,
          14.6,
          12.4,
          12.2,
          11.9,
          11.1,
          4.4,
          4.4,
          3.7,
          3,
          0.8,
          0,
          0
         ],
         "y0": " ",
         "yaxis": "y"
        },
        {
         "alignmentgroup": "True",
         "hoverlabel": {
          "namelength": 0
         },
         "hovertemplate": "TEAM=%{x}<br>PTS=%{y}",
         "legendgroup": "TEAM=CHI",
         "marker": {
          "color": "#636efa"
         },
         "name": "TEAM=CHI",
         "notched": false,
         "offsetgroup": "TEAM=CHI",
         "orientation": "v",
         "showlegend": true,
         "type": "box",
         "x": [
          "CHI",
          "CHI",
          "CHI",
          "CHI",
          "CHI",
          "CHI",
          "CHI",
          "CHI",
          "CHI",
          "CHI",
          "CHI",
          "CHI",
          "CHI",
          "CHI"
         ],
         "x0": " ",
         "xaxis": "x",
         "y": [
          20.4,
          15.1,
          12.8,
          11.2,
          11.2,
          9.9,
          8.8,
          7,
          6.1,
          4.2,
          3.9,
          3,
          2,
          0
         ],
         "y0": " ",
         "yaxis": "y"
        },
        {
         "alignmentgroup": "True",
         "hoverlabel": {
          "namelength": 0
         },
         "hovertemplate": "TEAM=%{x}<br>PTS=%{y}",
         "legendgroup": "TEAM=MEM",
         "marker": {
          "color": "#EF553B"
         },
         "name": "TEAM=MEM",
         "notched": false,
         "offsetgroup": "TEAM=MEM",
         "orientation": "v",
         "showlegend": true,
         "type": "box",
         "x": [
          "MEM",
          "MEM",
          "MEM",
          "MEM",
          "MEM",
          "MEM",
          "MEM",
          "MEM",
          "MEM",
          "MEM",
          "MEM",
          "MEM",
          "MEM"
         ],
         "x0": " ",
         "xaxis": "x",
         "y": [
          20.4,
          15.1,
          11.4,
          11.3,
          11,
          9.6,
          7.6,
          7.6,
          7.4,
          7.4,
          4.4,
          3.6,
          0
         ],
         "y0": " ",
         "yaxis": "y"
        },
        {
         "alignmentgroup": "True",
         "hoverlabel": {
          "namelength": 0
         },
         "hovertemplate": "TEAM=%{x}<br>PTS=%{y}",
         "legendgroup": "TEAM=GSW",
         "marker": {
          "color": "#00cc96"
         },
         "name": "TEAM=GSW",
         "notched": false,
         "offsetgroup": "TEAM=GSW",
         "orientation": "v",
         "showlegend": true,
         "type": "box",
         "x": [
          "GSW",
          "GSW",
          "GSW",
          "GSW",
          "GSW",
          "GSW",
          "GSW",
          "GSW",
          "GSW",
          "GSW",
          "GSW",
          "GSW",
          "GSW",
          "GSW"
         ],
         "x0": " ",
         "xaxis": "x",
         "y": [
          20.3,
          19,
          17,
          12.4,
          11.9,
          10.6,
          10.3,
          9.4,
          8,
          7.5,
          6.9,
          6,
          5,
          3
         ],
         "y0": " ",
         "yaxis": "y"
        },
        {
         "alignmentgroup": "True",
         "hoverlabel": {
          "namelength": 0
         },
         "hovertemplate": "TEAM=%{x}<br>PTS=%{y}",
         "legendgroup": "TEAM=DEN",
         "marker": {
          "color": "#ab63fa"
         },
         "name": "TEAM=DEN",
         "notched": false,
         "offsetgroup": "TEAM=DEN",
         "orientation": "v",
         "showlegend": true,
         "type": "box",
         "x": [
          "DEN",
          "DEN",
          "DEN",
          "DEN",
          "DEN",
          "DEN",
          "DEN",
          "DEN",
          "DEN",
          "DEN",
          "DEN",
          "DEN",
          "DEN",
          "DEN"
         ],
         "x0": " ",
         "xaxis": "x",
         "y": [
          18.9,
          14.9,
          14.2,
          11.7,
          11.4,
          9,
          7.9,
          7.3,
          6.9,
          6.7,
          3.3,
          1,
          0,
          0
         ],
         "y0": " ",
         "yaxis": "y"
        },
        {
         "alignmentgroup": "True",
         "hoverlabel": {
          "namelength": 0
         },
         "hovertemplate": "TEAM=%{x}<br>PTS=%{y}",
         "legendgroup": "TEAM=CLE",
         "marker": {
          "color": "#FFA15A"
         },
         "name": "TEAM=CLE",
         "notched": false,
         "offsetgroup": "TEAM=CLE",
         "orientation": "v",
         "showlegend": true,
         "type": "box",
         "x": [
          "CLE",
          "CLE",
          "CLE",
          "CLE",
          "CLE",
          "CLE",
          "CLE",
          "CLE",
          "CLE",
          "CLE",
          "CLE",
          "CLE",
          "CLE"
         ],
         "x0": " ",
         "xaxis": "x",
         "y": [
          18.9,
          17.4,
          16.9,
          15,
          10.4,
          9.7,
          7.6,
          5.3,
          5.3,
          3,
          2.8,
          1.3,
          0.8
         ],
         "y0": " ",
         "yaxis": "y"
        },
        {
         "alignmentgroup": "True",
         "hoverlabel": {
          "namelength": 0
         },
         "hovertemplate": "TEAM=%{x}<br>PTS=%{y}",
         "legendgroup": "TEAM=SAC",
         "marker": {
          "color": "#19d3f3"
         },
         "name": "TEAM=SAC",
         "notched": false,
         "offsetgroup": "TEAM=SAC",
         "orientation": "v",
         "showlegend": true,
         "type": "box",
         "x": [
          "SAC",
          "SAC",
          "SAC",
          "SAC",
          "SAC",
          "SAC",
          "SAC",
          "SAC",
          "SAC",
          "SAC",
          "SAC",
          "SAC",
          "SAC",
          "SAC"
         ],
         "x0": " ",
         "xaxis": "x",
         "y": [
          18.4,
          17.6,
          15.5,
          14,
          11,
          11,
          8.8,
          6.1,
          5.3,
          4,
          2.4,
          2.3,
          2.2,
          0.8
         ],
         "y0": " ",
         "yaxis": "y"
        },
        {
         "alignmentgroup": "True",
         "hoverlabel": {
          "namelength": 0
         },
         "hovertemplate": "TEAM=%{x}<br>PTS=%{y}",
         "legendgroup": "TEAM=MIA",
         "marker": {
          "color": "#FF6692"
         },
         "name": "TEAM=MIA",
         "notched": false,
         "offsetgroup": "TEAM=MIA",
         "orientation": "v",
         "showlegend": true,
         "type": "box",
         "x": [
          "MIA",
          "MIA",
          "MIA",
          "MIA",
          "MIA",
          "MIA",
          "MIA",
          "MIA",
          "MIA",
          "MIA",
          "MIA",
          "MIA",
          "MIA",
          "MIA"
         ],
         "x0": " ",
         "xaxis": "x",
         "y": [
          18.3,
          15.1,
          15,
          13.8,
          13.7,
          12.7,
          10,
          9,
          8.7,
          8.5,
          6.9,
          3.4,
          0,
          0
         ],
         "y0": " ",
         "yaxis": "y"
        },
        {
         "alignmentgroup": "True",
         "hoverlabel": {
          "namelength": 0
         },
         "hovertemplate": "TEAM=%{x}<br>PTS=%{y}",
         "legendgroup": "TEAM=NYK",
         "marker": {
          "color": "#B6E880"
         },
         "name": "TEAM=NYK",
         "notched": false,
         "offsetgroup": "TEAM=NYK",
         "orientation": "v",
         "showlegend": true,
         "type": "box",
         "x": [
          "NYK",
          "NYK",
          "NYK",
          "NYK",
          "NYK",
          "NYK",
          "NYK",
          "NYK",
          "NYK",
          "NYK",
          "NYK",
          "NYK",
          "NYK",
          "NYK"
         ],
         "x0": " ",
         "xaxis": "x",
         "y": [
          17.9,
          17.9,
          14.3,
          11,
          9.6,
          9.5,
          8,
          8,
          5.1,
          4.3,
          2.7,
          2,
          1.8,
          1
         ],
         "y0": " ",
         "yaxis": "y"
        },
        {
         "alignmentgroup": "True",
         "hoverlabel": {
          "namelength": 0
         },
         "hovertemplate": "TEAM=%{x}<br>PTS=%{y}",
         "legendgroup": "TEAM=CHA",
         "marker": {
          "color": "#FF97FF"
         },
         "name": "TEAM=CHA",
         "notched": false,
         "offsetgroup": "TEAM=CHA",
         "orientation": "v",
         "showlegend": true,
         "type": "box",
         "x": [
          "CHA",
          "CHA",
          "CHA",
          "CHA",
          "CHA",
          "CHA",
          "CHA",
          "CHA",
          "CHA",
          "CHA",
          "CHA",
          "CHA",
          "CHA",
          "CHA",
          "CHA"
         ],
         "x0": " ",
         "xaxis": "x",
         "y": [
          17.3,
          16.9,
          15.1,
          13.3,
          12.8,
          11.1,
          7.6,
          7.3,
          6.6,
          5,
          3,
          2,
          2,
          1.3,
          0
         ],
         "y0": " ",
         "yaxis": "y"
        },
        {
         "alignmentgroup": "True",
         "hoverlabel": {
          "namelength": 0
         },
         "hovertemplate": "TEAM=%{x}<br>PTS=%{y}",
         "legendgroup": "TEAM=ORL",
         "marker": {
          "color": "#FECB52"
         },
         "name": "TEAM=ORL",
         "notched": false,
         "offsetgroup": "TEAM=ORL",
         "orientation": "v",
         "showlegend": true,
         "type": "box",
         "x": [
          "ORL",
          "ORL",
          "ORL",
          "ORL",
          "ORL",
          "ORL",
          "ORL",
          "ORL",
          "ORL",
          "ORL",
          "ORL",
          "ORL",
          "ORL",
          "ORL",
          "ORL"
         ],
         "x0": " ",
         "xaxis": "x",
         "y": [
          16.3,
          14.3,
          13.3,
          11.1,
          10.3,
          9,
          8.3,
          5.2,
          4.8,
          4.6,
          4,
          4,
          2,
          2,
          1.3
         ],
         "y0": " ",
         "yaxis": "y"
        }
       ],
       "layout": {
        "boxmode": "group",
        "height": 600,
        "legend": {
         "tracegroupgap": 0
        },
        "margin": {
         "t": 60
        },
        "template": {
         "data": {
          "bar": [
           {
            "error_x": {
             "color": "#2a3f5f"
            },
            "error_y": {
             "color": "#2a3f5f"
            },
            "marker": {
             "line": {
              "color": "#E5ECF6",
              "width": 0.5
             }
            },
            "type": "bar"
           }
          ],
          "barpolar": [
           {
            "marker": {
             "line": {
              "color": "#E5ECF6",
              "width": 0.5
             }
            },
            "type": "barpolar"
           }
          ],
          "carpet": [
           {
            "aaxis": {
             "endlinecolor": "#2a3f5f",
             "gridcolor": "white",
             "linecolor": "white",
             "minorgridcolor": "white",
             "startlinecolor": "#2a3f5f"
            },
            "baxis": {
             "endlinecolor": "#2a3f5f",
             "gridcolor": "white",
             "linecolor": "white",
             "minorgridcolor": "white",
             "startlinecolor": "#2a3f5f"
            },
            "type": "carpet"
           }
          ],
          "choropleth": [
           {
            "colorbar": {
             "outlinewidth": 0,
             "ticks": ""
            },
            "type": "choropleth"
           }
          ],
          "contour": [
           {
            "colorbar": {
             "outlinewidth": 0,
             "ticks": ""
            },
            "colorscale": [
             [
              0,
              "#0d0887"
             ],
             [
              0.1111111111111111,
              "#46039f"
             ],
             [
              0.2222222222222222,
              "#7201a8"
             ],
             [
              0.3333333333333333,
              "#9c179e"
             ],
             [
              0.4444444444444444,
              "#bd3786"
             ],
             [
              0.5555555555555556,
              "#d8576b"
             ],
             [
              0.6666666666666666,
              "#ed7953"
             ],
             [
              0.7777777777777778,
              "#fb9f3a"
             ],
             [
              0.8888888888888888,
              "#fdca26"
             ],
             [
              1,
              "#f0f921"
             ]
            ],
            "type": "contour"
           }
          ],
          "contourcarpet": [
           {
            "colorbar": {
             "outlinewidth": 0,
             "ticks": ""
            },
            "type": "contourcarpet"
           }
          ],
          "heatmap": [
           {
            "colorbar": {
             "outlinewidth": 0,
             "ticks": ""
            },
            "colorscale": [
             [
              0,
              "#0d0887"
             ],
             [
              0.1111111111111111,
              "#46039f"
             ],
             [
              0.2222222222222222,
              "#7201a8"
             ],
             [
              0.3333333333333333,
              "#9c179e"
             ],
             [
              0.4444444444444444,
              "#bd3786"
             ],
             [
              0.5555555555555556,
              "#d8576b"
             ],
             [
              0.6666666666666666,
              "#ed7953"
             ],
             [
              0.7777777777777778,
              "#fb9f3a"
             ],
             [
              0.8888888888888888,
              "#fdca26"
             ],
             [
              1,
              "#f0f921"
             ]
            ],
            "type": "heatmap"
           }
          ],
          "heatmapgl": [
           {
            "colorbar": {
             "outlinewidth": 0,
             "ticks": ""
            },
            "colorscale": [
             [
              0,
              "#0d0887"
             ],
             [
              0.1111111111111111,
              "#46039f"
             ],
             [
              0.2222222222222222,
              "#7201a8"
             ],
             [
              0.3333333333333333,
              "#9c179e"
             ],
             [
              0.4444444444444444,
              "#bd3786"
             ],
             [
              0.5555555555555556,
              "#d8576b"
             ],
             [
              0.6666666666666666,
              "#ed7953"
             ],
             [
              0.7777777777777778,
              "#fb9f3a"
             ],
             [
              0.8888888888888888,
              "#fdca26"
             ],
             [
              1,
              "#f0f921"
             ]
            ],
            "type": "heatmapgl"
           }
          ],
          "histogram": [
           {
            "marker": {
             "colorbar": {
              "outlinewidth": 0,
              "ticks": ""
             }
            },
            "type": "histogram"
           }
          ],
          "histogram2d": [
           {
            "colorbar": {
             "outlinewidth": 0,
             "ticks": ""
            },
            "colorscale": [
             [
              0,
              "#0d0887"
             ],
             [
              0.1111111111111111,
              "#46039f"
             ],
             [
              0.2222222222222222,
              "#7201a8"
             ],
             [
              0.3333333333333333,
              "#9c179e"
             ],
             [
              0.4444444444444444,
              "#bd3786"
             ],
             [
              0.5555555555555556,
              "#d8576b"
             ],
             [
              0.6666666666666666,
              "#ed7953"
             ],
             [
              0.7777777777777778,
              "#fb9f3a"
             ],
             [
              0.8888888888888888,
              "#fdca26"
             ],
             [
              1,
              "#f0f921"
             ]
            ],
            "type": "histogram2d"
           }
          ],
          "histogram2dcontour": [
           {
            "colorbar": {
             "outlinewidth": 0,
             "ticks": ""
            },
            "colorscale": [
             [
              0,
              "#0d0887"
             ],
             [
              0.1111111111111111,
              "#46039f"
             ],
             [
              0.2222222222222222,
              "#7201a8"
             ],
             [
              0.3333333333333333,
              "#9c179e"
             ],
             [
              0.4444444444444444,
              "#bd3786"
             ],
             [
              0.5555555555555556,
              "#d8576b"
             ],
             [
              0.6666666666666666,
              "#ed7953"
             ],
             [
              0.7777777777777778,
              "#fb9f3a"
             ],
             [
              0.8888888888888888,
              "#fdca26"
             ],
             [
              1,
              "#f0f921"
             ]
            ],
            "type": "histogram2dcontour"
           }
          ],
          "mesh3d": [
           {
            "colorbar": {
             "outlinewidth": 0,
             "ticks": ""
            },
            "type": "mesh3d"
           }
          ],
          "parcoords": [
           {
            "line": {
             "colorbar": {
              "outlinewidth": 0,
              "ticks": ""
             }
            },
            "type": "parcoords"
           }
          ],
          "scatter": [
           {
            "marker": {
             "colorbar": {
              "outlinewidth": 0,
              "ticks": ""
             }
            },
            "type": "scatter"
           }
          ],
          "scatter3d": [
           {
            "line": {
             "colorbar": {
              "outlinewidth": 0,
              "ticks": ""
             }
            },
            "marker": {
             "colorbar": {
              "outlinewidth": 0,
              "ticks": ""
             }
            },
            "type": "scatter3d"
           }
          ],
          "scattercarpet": [
           {
            "marker": {
             "colorbar": {
              "outlinewidth": 0,
              "ticks": ""
             }
            },
            "type": "scattercarpet"
           }
          ],
          "scattergeo": [
           {
            "marker": {
             "colorbar": {
              "outlinewidth": 0,
              "ticks": ""
             }
            },
            "type": "scattergeo"
           }
          ],
          "scattergl": [
           {
            "marker": {
             "colorbar": {
              "outlinewidth": 0,
              "ticks": ""
             }
            },
            "type": "scattergl"
           }
          ],
          "scattermapbox": [
           {
            "marker": {
             "colorbar": {
              "outlinewidth": 0,
              "ticks": ""
             }
            },
            "type": "scattermapbox"
           }
          ],
          "scatterpolar": [
           {
            "marker": {
             "colorbar": {
              "outlinewidth": 0,
              "ticks": ""
             }
            },
            "type": "scatterpolar"
           }
          ],
          "scatterpolargl": [
           {
            "marker": {
             "colorbar": {
              "outlinewidth": 0,
              "ticks": ""
             }
            },
            "type": "scatterpolargl"
           }
          ],
          "scatterternary": [
           {
            "marker": {
             "colorbar": {
              "outlinewidth": 0,
              "ticks": ""
             }
            },
            "type": "scatterternary"
           }
          ],
          "surface": [
           {
            "colorbar": {
             "outlinewidth": 0,
             "ticks": ""
            },
            "colorscale": [
             [
              0,
              "#0d0887"
             ],
             [
              0.1111111111111111,
              "#46039f"
             ],
             [
              0.2222222222222222,
              "#7201a8"
             ],
             [
              0.3333333333333333,
              "#9c179e"
             ],
             [
              0.4444444444444444,
              "#bd3786"
             ],
             [
              0.5555555555555556,
              "#d8576b"
             ],
             [
              0.6666666666666666,
              "#ed7953"
             ],
             [
              0.7777777777777778,
              "#fb9f3a"
             ],
             [
              0.8888888888888888,
              "#fdca26"
             ],
             [
              1,
              "#f0f921"
             ]
            ],
            "type": "surface"
           }
          ],
          "table": [
           {
            "cells": {
             "fill": {
              "color": "#EBF0F8"
             },
             "line": {
              "color": "white"
             }
            },
            "header": {
             "fill": {
              "color": "#C8D4E3"
             },
             "line": {
              "color": "white"
             }
            },
            "type": "table"
           }
          ]
         },
         "layout": {
          "annotationdefaults": {
           "arrowcolor": "#2a3f5f",
           "arrowhead": 0,
           "arrowwidth": 1
          },
          "colorscale": {
           "diverging": [
            [
             0,
             "#8e0152"
            ],
            [
             0.1,
             "#c51b7d"
            ],
            [
             0.2,
             "#de77ae"
            ],
            [
             0.3,
             "#f1b6da"
            ],
            [
             0.4,
             "#fde0ef"
            ],
            [
             0.5,
             "#f7f7f7"
            ],
            [
             0.6,
             "#e6f5d0"
            ],
            [
             0.7,
             "#b8e186"
            ],
            [
             0.8,
             "#7fbc41"
            ],
            [
             0.9,
             "#4d9221"
            ],
            [
             1,
             "#276419"
            ]
           ],
           "sequential": [
            [
             0,
             "#0d0887"
            ],
            [
             0.1111111111111111,
             "#46039f"
            ],
            [
             0.2222222222222222,
             "#7201a8"
            ],
            [
             0.3333333333333333,
             "#9c179e"
            ],
            [
             0.4444444444444444,
             "#bd3786"
            ],
            [
             0.5555555555555556,
             "#d8576b"
            ],
            [
             0.6666666666666666,
             "#ed7953"
            ],
            [
             0.7777777777777778,
             "#fb9f3a"
            ],
            [
             0.8888888888888888,
             "#fdca26"
            ],
            [
             1,
             "#f0f921"
            ]
           ],
           "sequentialminus": [
            [
             0,
             "#0d0887"
            ],
            [
             0.1111111111111111,
             "#46039f"
            ],
            [
             0.2222222222222222,
             "#7201a8"
            ],
            [
             0.3333333333333333,
             "#9c179e"
            ],
            [
             0.4444444444444444,
             "#bd3786"
            ],
            [
             0.5555555555555556,
             "#d8576b"
            ],
            [
             0.6666666666666666,
             "#ed7953"
            ],
            [
             0.7777777777777778,
             "#fb9f3a"
            ],
            [
             0.8888888888888888,
             "#fdca26"
            ],
            [
             1,
             "#f0f921"
            ]
           ]
          },
          "colorway": [
           "#636efa",
           "#EF553B",
           "#00cc96",
           "#ab63fa",
           "#FFA15A",
           "#19d3f3",
           "#FF6692",
           "#B6E880",
           "#FF97FF",
           "#FECB52"
          ],
          "font": {
           "color": "#2a3f5f"
          },
          "geo": {
           "bgcolor": "white",
           "lakecolor": "white",
           "landcolor": "#E5ECF6",
           "showlakes": true,
           "showland": true,
           "subunitcolor": "white"
          },
          "hoverlabel": {
           "align": "left"
          },
          "hovermode": "closest",
          "mapbox": {
           "style": "light"
          },
          "paper_bgcolor": "white",
          "plot_bgcolor": "#E5ECF6",
          "polar": {
           "angularaxis": {
            "gridcolor": "white",
            "linecolor": "white",
            "ticks": ""
           },
           "bgcolor": "#E5ECF6",
           "radialaxis": {
            "gridcolor": "white",
            "linecolor": "white",
            "ticks": ""
           }
          },
          "scene": {
           "xaxis": {
            "backgroundcolor": "#E5ECF6",
            "gridcolor": "white",
            "gridwidth": 2,
            "linecolor": "white",
            "showbackground": true,
            "ticks": "",
            "zerolinecolor": "white"
           },
           "yaxis": {
            "backgroundcolor": "#E5ECF6",
            "gridcolor": "white",
            "gridwidth": 2,
            "linecolor": "white",
            "showbackground": true,
            "ticks": "",
            "zerolinecolor": "white"
           },
           "zaxis": {
            "backgroundcolor": "#E5ECF6",
            "gridcolor": "white",
            "gridwidth": 2,
            "linecolor": "white",
            "showbackground": true,
            "ticks": "",
            "zerolinecolor": "white"
           }
          },
          "shapedefaults": {
           "line": {
            "color": "#2a3f5f"
           }
          },
          "ternary": {
           "aaxis": {
            "gridcolor": "white",
            "linecolor": "white",
            "ticks": ""
           },
           "baxis": {
            "gridcolor": "white",
            "linecolor": "white",
            "ticks": ""
           },
           "bgcolor": "#E5ECF6",
           "caxis": {
            "gridcolor": "white",
            "linecolor": "white",
            "ticks": ""
           }
          },
          "title": {
           "x": 0.05
          },
          "xaxis": {
           "automargin": true,
           "gridcolor": "white",
           "linecolor": "white",
           "ticks": "",
           "zerolinecolor": "white",
           "zerolinewidth": 2
          },
          "yaxis": {
           "automargin": true,
           "gridcolor": "white",
           "linecolor": "white",
           "ticks": "",
           "zerolinecolor": "white",
           "zerolinewidth": 2
          }
         }
        },
        "xaxis": {
         "anchor": "y",
         "categoryarray": [
          "HOU",
          "BKN",
          "POR",
          "LAC",
          "MIL",
          "WAS",
          "MIN",
          "DAL",
          "LAL",
          "PHX",
          "BOS",
          "NOP",
          "TOR",
          "UTA",
          "PHI",
          "ATL",
          "IND",
          "OKC",
          "DET",
          "SAS",
          "CHI",
          "MEM",
          "GSW",
          "DEN",
          "CLE",
          "SAC",
          "MIA",
          "NYK",
          "CHA",
          "ORL"
         ],
         "categoryorder": "array",
         "domain": [
          0,
          0.98
         ],
         "title": {
          "text": "TEAM"
         }
        },
        "yaxis": {
         "anchor": "x",
         "domain": [
          0,
          1
         ],
         "title": {
          "text": "PTS"
         }
        }
       }
      },
      "text/html": [
       "<div>\n",
       "        \n",
       "        \n",
       "            <div id=\"509e1f9e-7a96-4a54-b1e0-fd38357380c8\" class=\"plotly-graph-div\" style=\"height:600px; width:100%;\"></div>\n",
       "            <script type=\"text/javascript\">\n",
       "                require([\"plotly\"], function(Plotly) {\n",
       "                    window.PLOTLYENV=window.PLOTLYENV || {};\n",
       "                    \n",
       "                if (document.getElementById(\"509e1f9e-7a96-4a54-b1e0-fd38357380c8\")) {\n",
       "                    Plotly.newPlot(\n",
       "                        '509e1f9e-7a96-4a54-b1e0-fd38357380c8',\n",
       "                        [{\"alignmentgroup\": \"True\", \"hoverlabel\": {\"namelength\": 0}, \"hovertemplate\": \"TEAM=%{x}<br>PTS=%{y}\", \"legendgroup\": \"TEAM=HOU\", \"marker\": {\"color\": \"#636efa\"}, \"name\": \"TEAM=HOU\", \"notched\": false, \"offsetgroup\": \"TEAM=HOU\", \"orientation\": \"v\", \"showlegend\": true, \"type\": \"box\", \"x\": [\"HOU\", \"HOU\", \"HOU\", \"HOU\", \"HOU\", \"HOU\", \"HOU\", \"HOU\", \"HOU\", \"HOU\", \"HOU\", \"HOU\"], \"x0\": \" \", \"xaxis\": \"x\", \"y\": [36.5, 20.7, 13.5, 13.1, 11.5, 10.3, 6.9, 5.9, 5.3, 2.5, 1.9, 1.8], \"y0\": \" \", \"yaxis\": \"y\"}, {\"alignmentgroup\": \"True\", \"hoverlabel\": {\"namelength\": 0}, \"hovertemplate\": \"TEAM=%{x}<br>PTS=%{y}\", \"legendgroup\": \"TEAM=BKN\", \"marker\": {\"color\": \"#EF553B\"}, \"name\": \"TEAM=BKN\", \"notched\": false, \"offsetgroup\": \"TEAM=BKN\", \"orientation\": \"v\", \"showlegend\": true, \"type\": \"box\", \"x\": [\"BKN\", \"BKN\", \"BKN\", \"BKN\", \"BKN\", \"BKN\", \"BKN\", \"BKN\", \"BKN\", \"BKN\", \"BKN\", \"BKN\"], \"x0\": \" \", \"xaxis\": \"x\", \"y\": [31.7, 19.4, 15.0, 15.0, 14.0, 9.1, 7.1, 6.1, 2.3, 2.0, 0.0, 0.0], \"y0\": \" \", \"yaxis\": \"y\"}, {\"alignmentgroup\": \"True\", \"hoverlabel\": {\"namelength\": 0}, \"hovertemplate\": \"TEAM=%{x}<br>PTS=%{y}\", \"legendgroup\": \"TEAM=POR\", \"marker\": {\"color\": \"#00cc96\"}, \"name\": \"TEAM=POR\", \"notched\": false, \"offsetgroup\": \"TEAM=POR\", \"orientation\": \"v\", \"showlegend\": true, \"type\": \"box\", \"x\": [\"POR\", \"POR\", \"POR\", \"POR\", \"POR\", \"POR\", \"POR\", \"POR\", \"POR\", \"POR\", \"POR\", \"POR\"], \"x0\": \" \", \"xaxis\": \"x\", \"y\": [31.1, 20.7, 14.3, 12.9, 9.6, 9.0, 7.9, 6.9, 6.1, 3.1, 0.0, 0.0], \"y0\": \" \", \"yaxis\": \"y\"}, {\"alignmentgroup\": \"True\", \"hoverlabel\": {\"namelength\": 0}, \"hovertemplate\": \"TEAM=%{x}<br>PTS=%{y}\", \"legendgroup\": \"TEAM=LAC\", \"marker\": {\"color\": \"#ab63fa\"}, \"name\": \"TEAM=LAC\", \"notched\": false, \"offsetgroup\": \"TEAM=LAC\", \"orientation\": \"v\", \"showlegend\": true, \"type\": \"box\", \"x\": [\"LAC\", \"LAC\", \"LAC\", \"LAC\", \"LAC\", \"LAC\", \"LAC\", \"LAC\", \"LAC\", \"LAC\", \"LAC\", \"LAC\", \"LAC\", \"LAC\", \"LAC\"], \"x0\": \" \", \"xaxis\": \"x\", \"y\": [29.3, 22.0, 21.1, 10.1, 9.6, 8.9, 7.9, 5.0, 4.6, 2.8, 1.5, 1.0, 0.8, 0.0, 0.0], \"y0\": \" \", \"yaxis\": \"y\"}, {\"alignmentgroup\": \"True\", \"hoverlabel\": {\"namelength\": 0}, \"hovertemplate\": \"TEAM=%{x}<br>PTS=%{y}\", \"legendgroup\": \"TEAM=MIL\", \"marker\": {\"color\": \"#FFA15A\"}, \"name\": \"TEAM=MIL\", \"notched\": false, \"offsetgroup\": \"TEAM=MIL\", \"orientation\": \"v\", \"showlegend\": true, \"type\": \"box\", \"x\": [\"MIL\", \"MIL\", \"MIL\", \"MIL\", \"MIL\", \"MIL\", \"MIL\", \"MIL\", \"MIL\", \"MIL\", \"MIL\", \"MIL\", \"MIL\", \"MIL\"], \"x0\": \" \", \"xaxis\": \"x\", \"y\": [29.0, 18.6, 14.5, 11.4, 10.4, 8.6, 7.8, 7.0, 6.9, 5.3, 4.1, 4.0, 2.0, 1.7], \"y0\": \" \", \"yaxis\": \"y\"}, {\"alignmentgroup\": \"True\", \"hoverlabel\": {\"namelength\": 0}, \"hovertemplate\": \"TEAM=%{x}<br>PTS=%{y}\", \"legendgroup\": \"TEAM=WAS\", \"marker\": {\"color\": \"#19d3f3\"}, \"name\": \"TEAM=WAS\", \"notched\": false, \"offsetgroup\": \"TEAM=WAS\", \"orientation\": \"v\", \"showlegend\": true, \"type\": \"box\", \"x\": [\"WAS\", \"WAS\", \"WAS\", \"WAS\", \"WAS\", \"WAS\", \"WAS\", \"WAS\", \"WAS\", \"WAS\", \"WAS\", \"WAS\", \"WAS\", \"WAS\", \"WAS\"], \"x0\": \" \", \"xaxis\": \"x\", \"y\": [27.0, 13.6, 13.6, 13.5, 13.1, 12.6, 11.1, 9.8, 7.7, 5.5, 4.7, 4.4, 3.0, 1.7, 0.0], \"y0\": \" \", \"yaxis\": \"y\"}, {\"alignmentgroup\": \"True\", \"hoverlabel\": {\"namelength\": 0}, \"hovertemplate\": \"TEAM=%{x}<br>PTS=%{y}\", \"legendgroup\": \"TEAM=MIN\", \"marker\": {\"color\": \"#FF6692\"}, \"name\": \"TEAM=MIN\", \"notched\": false, \"offsetgroup\": \"TEAM=MIN\", \"orientation\": \"v\", \"showlegend\": true, \"type\": \"box\", \"x\": [\"MIN\", \"MIN\", \"MIN\", \"MIN\", \"MIN\", \"MIN\", \"MIN\", \"MIN\", \"MIN\", \"MIN\", \"MIN\", \"MIN\", \"MIN\", \"MIN\", \"MIN\"], \"x0\": \" \", \"xaxis\": \"x\", \"y\": [26.8, 22.4, 13.2, 12.7, 8.9, 8.0, 7.9, 7.9, 7.8, 6.3, 5.8, 5.0, 5.0, 0.0, 0.0], \"y0\": \" \", \"yaxis\": \"y\"}, {\"alignmentgroup\": \"True\", \"hoverlabel\": {\"namelength\": 0}, \"hovertemplate\": \"TEAM=%{x}<br>PTS=%{y}\", \"legendgroup\": \"TEAM=DAL\", \"marker\": {\"color\": \"#B6E880\"}, \"name\": \"TEAM=DAL\", \"notched\": false, \"offsetgroup\": \"TEAM=DAL\", \"orientation\": \"v\", \"showlegend\": true, \"type\": \"box\", \"x\": [\"DAL\", \"DAL\", \"DAL\", \"DAL\", \"DAL\", \"DAL\", \"DAL\", \"DAL\", \"DAL\", \"DAL\", \"DAL\", \"DAL\", \"DAL\", \"DAL\"], \"x0\": \" \", \"xaxis\": \"x\", \"y\": [26.7, 19.0, 11.0, 10.4, 9.8, 9.7, 9.3, 8.7, 8.0, 7.9, 6.3, 5.3, 3.0, 3.0], \"y0\": \" \", \"yaxis\": \"y\"}, {\"alignmentgroup\": \"True\", \"hoverlabel\": {\"namelength\": 0}, \"hovertemplate\": \"TEAM=%{x}<br>PTS=%{y}\", \"legendgroup\": \"TEAM=LAL\", \"marker\": {\"color\": \"#FF97FF\"}, \"name\": \"TEAM=LAL\", \"notched\": false, \"offsetgroup\": \"TEAM=LAL\", \"orientation\": \"v\", \"showlegend\": true, \"type\": \"box\", \"x\": [\"LAL\", \"LAL\", \"LAL\", \"LAL\", \"LAL\", \"LAL\", \"LAL\", \"LAL\", \"LAL\", \"LAL\", \"LAL\", \"LAL\", \"LAL\", \"LAL\"], \"x0\": \" \", \"xaxis\": \"x\", \"y\": [26.6, 26.1, 10.7, 10.6, 9.7, 6.9, 6.7, 6.3, 5.4, 5.0, 3.8, 1.2, 0.0, 0.0], \"y0\": \" \", \"yaxis\": \"y\"}, {\"alignmentgroup\": \"True\", \"hoverlabel\": {\"namelength\": 0}, \"hovertemplate\": \"TEAM=%{x}<br>PTS=%{y}\", \"legendgroup\": \"TEAM=PHX\", \"marker\": {\"color\": \"#FECB52\"}, \"name\": \"TEAM=PHX\", \"notched\": false, \"offsetgroup\": \"TEAM=PHX\", \"orientation\": \"v\", \"showlegend\": true, \"type\": \"box\", \"x\": [\"PHX\", \"PHX\", \"PHX\", \"PHX\", \"PHX\", \"PHX\", \"PHX\", \"PHX\", \"PHX\", \"PHX\", \"PHX\", \"PHX\", \"PHX\", \"PHX\"], \"x0\": \" \", \"xaxis\": \"x\", \"y\": [26.1, 18.0, 17.4, 15.0, 12.7, 11.0, 8.9, 7.1, 5.7, 5.2, 4.7, 2.3, 2.0, 0.0], \"y0\": \" \", \"yaxis\": \"y\"}, {\"alignmentgroup\": \"True\", \"hoverlabel\": {\"namelength\": 0}, \"hovertemplate\": \"TEAM=%{x}<br>PTS=%{y}\", \"legendgroup\": \"TEAM=BOS\", \"marker\": {\"color\": \"#636efa\"}, \"name\": \"TEAM=BOS\", \"notched\": false, \"offsetgroup\": \"TEAM=BOS\", \"orientation\": \"v\", \"showlegend\": true, \"type\": \"box\", \"x\": [\"BOS\", \"BOS\", \"BOS\", \"BOS\", \"BOS\", \"BOS\", \"BOS\", \"BOS\", \"BOS\", \"BOS\", \"BOS\", \"BOS\", \"BOS\", \"BOS\", \"BOS\", \"BOS\"], \"x0\": \" \", \"xaxis\": \"x\", \"y\": [26.0, 21.3, 20.3, 17.3, 12.0, 10.2, 5.8, 5.0, 4.6, 4.0, 3.8, 2.7, 2.0, 1.2, 0.0, 0.0], \"y0\": \" \", \"yaxis\": \"y\"}, {\"alignmentgroup\": \"True\", \"hoverlabel\": {\"namelength\": 0}, \"hovertemplate\": \"TEAM=%{x}<br>PTS=%{y}\", \"legendgroup\": \"TEAM=NOP\", \"marker\": {\"color\": \"#EF553B\"}, \"name\": \"TEAM=NOP\", \"notched\": false, \"offsetgroup\": \"TEAM=NOP\", \"orientation\": \"v\", \"showlegend\": true, \"type\": \"box\", \"x\": [\"NOP\", \"NOP\", \"NOP\", \"NOP\", \"NOP\", \"NOP\", \"NOP\", \"NOP\", \"NOP\", \"NOP\", \"NOP\", \"NOP\", \"NOP\"], \"x0\": \" \", \"xaxis\": \"x\", \"y\": [25.9, 14.2, 13.6, 12.4, 11.7, 10.6, 9.9, 7.8, 6.8, 6.5, 6.0, 5.1, 4.3], \"y0\": \" \", \"yaxis\": \"y\"}, {\"alignmentgroup\": \"True\", \"hoverlabel\": {\"namelength\": 0}, \"hovertemplate\": \"TEAM=%{x}<br>PTS=%{y}\", \"legendgroup\": \"TEAM=TOR\", \"marker\": {\"color\": \"#00cc96\"}, \"name\": \"TEAM=TOR\", \"notched\": false, \"offsetgroup\": \"TEAM=TOR\", \"orientation\": \"v\", \"showlegend\": true, \"type\": \"box\", \"x\": [\"TOR\", \"TOR\", \"TOR\", \"TOR\", \"TOR\", \"TOR\", \"TOR\", \"TOR\", \"TOR\", \"TOR\", \"TOR\", \"TOR\", \"TOR\", \"TOR\"], \"x0\": \" \", \"xaxis\": \"x\", \"y\": [25.6, 24.0, 15.6, 14.9, 12.7, 7.4, 7.1, 4.8, 4.0, 2.5, 2.0, 1.0, 0.8, 0.0], \"y0\": \" \", \"yaxis\": \"y\"}, {\"alignmentgroup\": \"True\", \"hoverlabel\": {\"namelength\": 0}, \"hovertemplate\": \"TEAM=%{x}<br>PTS=%{y}\", \"legendgroup\": \"TEAM=UTA\", \"marker\": {\"color\": \"#ab63fa\"}, \"name\": \"TEAM=UTA\", \"notched\": false, \"offsetgroup\": \"TEAM=UTA\", \"orientation\": \"v\", \"showlegend\": true, \"type\": \"box\", \"x\": [\"UTA\", \"UTA\", \"UTA\", \"UTA\", \"UTA\", \"UTA\", \"UTA\", \"UTA\", \"UTA\", \"UTA\", \"UTA\", \"UTA\", \"UTA\", \"UTA\"], \"x0\": \" \", \"xaxis\": \"x\", \"y\": [25.5, 20.1, 12.8, 11.3, 9.0, 7.6, 6.0, 5.9, 4.8, 3.6, 1.7, 0.0, 0.0, 0.0], \"y0\": \" \", \"yaxis\": \"y\"}, {\"alignmentgroup\": \"True\", \"hoverlabel\": {\"namelength\": 0}, \"hovertemplate\": \"TEAM=%{x}<br>PTS=%{y}\", \"legendgroup\": \"TEAM=PHI\", \"marker\": {\"color\": \"#FFA15A\"}, \"name\": \"TEAM=PHI\", \"notched\": false, \"offsetgroup\": \"TEAM=PHI\", \"orientation\": \"v\", \"showlegend\": true, \"type\": \"box\", \"x\": [\"PHI\", \"PHI\", \"PHI\", \"PHI\", \"PHI\", \"PHI\", \"PHI\", \"PHI\", \"PHI\", \"PHI\", \"PHI\", \"PHI\", \"PHI\"], \"x0\": \" \", \"xaxis\": \"x\", \"y\": [24.3, 19.7, 17.1, 14.6, 13.1, 8.4, 7.3, 6.3, 5.3, 3.9, 3.8, 3.5, 2.0], \"y0\": \" \", \"yaxis\": \"y\"}, {\"alignmentgroup\": \"True\", \"hoverlabel\": {\"namelength\": 0}, \"hovertemplate\": \"TEAM=%{x}<br>PTS=%{y}\", \"legendgroup\": \"TEAM=ATL\", \"marker\": {\"color\": \"#19d3f3\"}, \"name\": \"TEAM=ATL\", \"notched\": false, \"offsetgroup\": \"TEAM=ATL\", \"orientation\": \"v\", \"showlegend\": true, \"type\": \"box\", \"x\": [\"ATL\", \"ATL\", \"ATL\", \"ATL\", \"ATL\", \"ATL\", \"ATL\", \"ATL\", \"ATL\", \"ATL\", \"ATL\", \"ATL\", \"ATL\", \"ATL\"], \"x0\": \" \", \"xaxis\": \"x\", \"y\": [24.2, 17.0, 15.1, 9.6, 8.9, 7.1, 6.1, 5.7, 5.5, 5.1, 4.0, 4.0, 3.3, 2.0], \"y0\": \" \", \"yaxis\": \"y\"}, {\"alignmentgroup\": \"True\", \"hoverlabel\": {\"namelength\": 0}, \"hovertemplate\": \"TEAM=%{x}<br>PTS=%{y}\", \"legendgroup\": \"TEAM=IND\", \"marker\": {\"color\": \"#FF6692\"}, \"name\": \"TEAM=IND\", \"notched\": false, \"offsetgroup\": \"TEAM=IND\", \"orientation\": \"v\", \"showlegend\": true, \"type\": \"box\", \"x\": [\"IND\", \"IND\", \"IND\", \"IND\", \"IND\", \"IND\", \"IND\", \"IND\", \"IND\", \"IND\", \"IND\", \"IND\", \"IND\", \"IND\"], \"x0\": \" \", \"xaxis\": \"x\", \"y\": [22.3, 20.3, 18.0, 17.0, 14.8, 7.3, 7.1, 7.0, 6.7, 6.0, 5.3, 4.1, 4.0, 2.0], \"y0\": \" \", \"yaxis\": \"y\"}, {\"alignmentgroup\": \"True\", \"hoverlabel\": {\"namelength\": 0}, \"hovertemplate\": \"TEAM=%{x}<br>PTS=%{y}\", \"legendgroup\": \"TEAM=OKC\", \"marker\": {\"color\": \"#B6E880\"}, \"name\": \"TEAM=OKC\", \"notched\": false, \"offsetgroup\": \"TEAM=OKC\", \"orientation\": \"v\", \"showlegend\": true, \"type\": \"box\", \"x\": [\"OKC\", \"OKC\", \"OKC\", \"OKC\", \"OKC\", \"OKC\", \"OKC\", \"OKC\", \"OKC\", \"OKC\", \"OKC\", \"OKC\", \"OKC\"], \"x0\": \" \", \"xaxis\": \"x\", \"y\": [22.1, 17.7, 15.6, 13.6, 9.4, 7.3, 7.0, 5.7, 3.1, 3.0, 2.2, 1.5, 0.0], \"y0\": \" \", \"yaxis\": \"y\"}, {\"alignmentgroup\": \"True\", \"hoverlabel\": {\"namelength\": 0}, \"hovertemplate\": \"TEAM=%{x}<br>PTS=%{y}\", \"legendgroup\": \"TEAM=DET\", \"marker\": {\"color\": \"#FF97FF\"}, \"name\": \"TEAM=DET\", \"notched\": false, \"offsetgroup\": \"TEAM=DET\", \"orientation\": \"v\", \"showlegend\": true, \"type\": \"box\", \"x\": [\"DET\", \"DET\", \"DET\", \"DET\", \"DET\", \"DET\", \"DET\", \"DET\", \"DET\", \"DET\", \"DET\", \"DET\", \"DET\", \"DET\"], \"x0\": \" \", \"xaxis\": \"x\", \"y\": [21.9, 20.8, 16.8, 11.9, 10.1, 9.7, 8.8, 7.9, 5.0, 4.5, 4.2, 2.9, 0.5, 0.0], \"y0\": \" \", \"yaxis\": \"y\"}, {\"alignmentgroup\": \"True\", \"hoverlabel\": {\"namelength\": 0}, \"hovertemplate\": \"TEAM=%{x}<br>PTS=%{y}\", \"legendgroup\": \"TEAM=SAS\", \"marker\": {\"color\": \"#FECB52\"}, \"name\": \"TEAM=SAS\", \"notched\": false, \"offsetgroup\": \"TEAM=SAS\", \"orientation\": \"v\", \"showlegend\": true, \"type\": \"box\", \"x\": [\"SAS\", \"SAS\", \"SAS\", \"SAS\", \"SAS\", \"SAS\", \"SAS\", \"SAS\", \"SAS\", \"SAS\", \"SAS\", \"SAS\", \"SAS\", \"SAS\"], \"x0\": \" \", \"xaxis\": \"x\", \"y\": [20.6, 16.1, 14.6, 12.4, 12.2, 11.9, 11.1, 4.4, 4.4, 3.7, 3.0, 0.8, 0.0, 0.0], \"y0\": \" \", \"yaxis\": \"y\"}, {\"alignmentgroup\": \"True\", \"hoverlabel\": {\"namelength\": 0}, \"hovertemplate\": \"TEAM=%{x}<br>PTS=%{y}\", \"legendgroup\": \"TEAM=CHI\", \"marker\": {\"color\": \"#636efa\"}, \"name\": \"TEAM=CHI\", \"notched\": false, \"offsetgroup\": \"TEAM=CHI\", \"orientation\": \"v\", \"showlegend\": true, \"type\": \"box\", \"x\": [\"CHI\", \"CHI\", \"CHI\", \"CHI\", \"CHI\", \"CHI\", \"CHI\", \"CHI\", \"CHI\", \"CHI\", \"CHI\", \"CHI\", \"CHI\", \"CHI\"], \"x0\": \" \", \"xaxis\": \"x\", \"y\": [20.4, 15.1, 12.8, 11.2, 11.2, 9.9, 8.8, 7.0, 6.1, 4.2, 3.9, 3.0, 2.0, 0.0], \"y0\": \" \", \"yaxis\": \"y\"}, {\"alignmentgroup\": \"True\", \"hoverlabel\": {\"namelength\": 0}, \"hovertemplate\": \"TEAM=%{x}<br>PTS=%{y}\", \"legendgroup\": \"TEAM=MEM\", \"marker\": {\"color\": \"#EF553B\"}, \"name\": \"TEAM=MEM\", \"notched\": false, \"offsetgroup\": \"TEAM=MEM\", \"orientation\": \"v\", \"showlegend\": true, \"type\": \"box\", \"x\": [\"MEM\", \"MEM\", \"MEM\", \"MEM\", \"MEM\", \"MEM\", \"MEM\", \"MEM\", \"MEM\", \"MEM\", \"MEM\", \"MEM\", \"MEM\"], \"x0\": \" \", \"xaxis\": \"x\", \"y\": [20.4, 15.1, 11.4, 11.3, 11.0, 9.6, 7.6, 7.6, 7.4, 7.4, 4.4, 3.6, 0.0], \"y0\": \" \", \"yaxis\": \"y\"}, {\"alignmentgroup\": \"True\", \"hoverlabel\": {\"namelength\": 0}, \"hovertemplate\": \"TEAM=%{x}<br>PTS=%{y}\", \"legendgroup\": \"TEAM=GSW\", \"marker\": {\"color\": \"#00cc96\"}, \"name\": \"TEAM=GSW\", \"notched\": false, \"offsetgroup\": \"TEAM=GSW\", \"orientation\": \"v\", \"showlegend\": true, \"type\": \"box\", \"x\": [\"GSW\", \"GSW\", \"GSW\", \"GSW\", \"GSW\", \"GSW\", \"GSW\", \"GSW\", \"GSW\", \"GSW\", \"GSW\", \"GSW\", \"GSW\", \"GSW\"], \"x0\": \" \", \"xaxis\": \"x\", \"y\": [20.3, 19.0, 17.0, 12.4, 11.9, 10.6, 10.3, 9.4, 8.0, 7.5, 6.9, 6.0, 5.0, 3.0], \"y0\": \" \", \"yaxis\": \"y\"}, {\"alignmentgroup\": \"True\", \"hoverlabel\": {\"namelength\": 0}, \"hovertemplate\": \"TEAM=%{x}<br>PTS=%{y}\", \"legendgroup\": \"TEAM=DEN\", \"marker\": {\"color\": \"#ab63fa\"}, \"name\": \"TEAM=DEN\", \"notched\": false, \"offsetgroup\": \"TEAM=DEN\", \"orientation\": \"v\", \"showlegend\": true, \"type\": \"box\", \"x\": [\"DEN\", \"DEN\", \"DEN\", \"DEN\", \"DEN\", \"DEN\", \"DEN\", \"DEN\", \"DEN\", \"DEN\", \"DEN\", \"DEN\", \"DEN\", \"DEN\"], \"x0\": \" \", \"xaxis\": \"x\", \"y\": [18.9, 14.9, 14.2, 11.7, 11.4, 9.0, 7.9, 7.3, 6.9, 6.7, 3.3, 1.0, 0.0, 0.0], \"y0\": \" \", \"yaxis\": \"y\"}, {\"alignmentgroup\": \"True\", \"hoverlabel\": {\"namelength\": 0}, \"hovertemplate\": \"TEAM=%{x}<br>PTS=%{y}\", \"legendgroup\": \"TEAM=CLE\", \"marker\": {\"color\": \"#FFA15A\"}, \"name\": \"TEAM=CLE\", \"notched\": false, \"offsetgroup\": \"TEAM=CLE\", \"orientation\": \"v\", \"showlegend\": true, \"type\": \"box\", \"x\": [\"CLE\", \"CLE\", \"CLE\", \"CLE\", \"CLE\", \"CLE\", \"CLE\", \"CLE\", \"CLE\", \"CLE\", \"CLE\", \"CLE\", \"CLE\"], \"x0\": \" \", \"xaxis\": \"x\", \"y\": [18.9, 17.4, 16.9, 15.0, 10.4, 9.7, 7.6, 5.3, 5.3, 3.0, 2.8, 1.3, 0.8], \"y0\": \" \", \"yaxis\": \"y\"}, {\"alignmentgroup\": \"True\", \"hoverlabel\": {\"namelength\": 0}, \"hovertemplate\": \"TEAM=%{x}<br>PTS=%{y}\", \"legendgroup\": \"TEAM=SAC\", \"marker\": {\"color\": \"#19d3f3\"}, \"name\": \"TEAM=SAC\", \"notched\": false, \"offsetgroup\": \"TEAM=SAC\", \"orientation\": \"v\", \"showlegend\": true, \"type\": \"box\", \"x\": [\"SAC\", \"SAC\", \"SAC\", \"SAC\", \"SAC\", \"SAC\", \"SAC\", \"SAC\", \"SAC\", \"SAC\", \"SAC\", \"SAC\", \"SAC\", \"SAC\"], \"x0\": \" \", \"xaxis\": \"x\", \"y\": [18.4, 17.6, 15.5, 14.0, 11.0, 11.0, 8.8, 6.1, 5.3, 4.0, 2.4, 2.3, 2.2, 0.8], \"y0\": \" \", \"yaxis\": \"y\"}, {\"alignmentgroup\": \"True\", \"hoverlabel\": {\"namelength\": 0}, \"hovertemplate\": \"TEAM=%{x}<br>PTS=%{y}\", \"legendgroup\": \"TEAM=MIA\", \"marker\": {\"color\": \"#FF6692\"}, \"name\": \"TEAM=MIA\", \"notched\": false, \"offsetgroup\": \"TEAM=MIA\", \"orientation\": \"v\", \"showlegend\": true, \"type\": \"box\", \"x\": [\"MIA\", \"MIA\", \"MIA\", \"MIA\", \"MIA\", \"MIA\", \"MIA\", \"MIA\", \"MIA\", \"MIA\", \"MIA\", \"MIA\", \"MIA\", \"MIA\"], \"x0\": \" \", \"xaxis\": \"x\", \"y\": [18.3, 15.1, 15.0, 13.8, 13.7, 12.7, 10.0, 9.0, 8.7, 8.5, 6.9, 3.4, 0.0, 0.0], \"y0\": \" \", \"yaxis\": \"y\"}, {\"alignmentgroup\": \"True\", \"hoverlabel\": {\"namelength\": 0}, \"hovertemplate\": \"TEAM=%{x}<br>PTS=%{y}\", \"legendgroup\": \"TEAM=NYK\", \"marker\": {\"color\": \"#B6E880\"}, \"name\": \"TEAM=NYK\", \"notched\": false, \"offsetgroup\": \"TEAM=NYK\", \"orientation\": \"v\", \"showlegend\": true, \"type\": \"box\", \"x\": [\"NYK\", \"NYK\", \"NYK\", \"NYK\", \"NYK\", \"NYK\", \"NYK\", \"NYK\", \"NYK\", \"NYK\", \"NYK\", \"NYK\", \"NYK\", \"NYK\"], \"x0\": \" \", \"xaxis\": \"x\", \"y\": [17.9, 17.9, 14.3, 11.0, 9.6, 9.5, 8.0, 8.0, 5.1, 4.3, 2.7, 2.0, 1.8, 1.0], \"y0\": \" \", \"yaxis\": \"y\"}, {\"alignmentgroup\": \"True\", \"hoverlabel\": {\"namelength\": 0}, \"hovertemplate\": \"TEAM=%{x}<br>PTS=%{y}\", \"legendgroup\": \"TEAM=CHA\", \"marker\": {\"color\": \"#FF97FF\"}, \"name\": \"TEAM=CHA\", \"notched\": false, \"offsetgroup\": \"TEAM=CHA\", \"orientation\": \"v\", \"showlegend\": true, \"type\": \"box\", \"x\": [\"CHA\", \"CHA\", \"CHA\", \"CHA\", \"CHA\", \"CHA\", \"CHA\", \"CHA\", \"CHA\", \"CHA\", \"CHA\", \"CHA\", \"CHA\", \"CHA\", \"CHA\"], \"x0\": \" \", \"xaxis\": \"x\", \"y\": [17.3, 16.9, 15.1, 13.3, 12.8, 11.1, 7.6, 7.3, 6.6, 5.0, 3.0, 2.0, 2.0, 1.3, 0.0], \"y0\": \" \", \"yaxis\": \"y\"}, {\"alignmentgroup\": \"True\", \"hoverlabel\": {\"namelength\": 0}, \"hovertemplate\": \"TEAM=%{x}<br>PTS=%{y}\", \"legendgroup\": \"TEAM=ORL\", \"marker\": {\"color\": \"#FECB52\"}, \"name\": \"TEAM=ORL\", \"notched\": false, \"offsetgroup\": \"TEAM=ORL\", \"orientation\": \"v\", \"showlegend\": true, \"type\": \"box\", \"x\": [\"ORL\", \"ORL\", \"ORL\", \"ORL\", \"ORL\", \"ORL\", \"ORL\", \"ORL\", \"ORL\", \"ORL\", \"ORL\", \"ORL\", \"ORL\", \"ORL\", \"ORL\"], \"x0\": \" \", \"xaxis\": \"x\", \"y\": [16.3, 14.3, 13.3, 11.1, 10.3, 9.0, 8.3, 5.2, 4.8, 4.6, 4.0, 4.0, 2.0, 2.0, 1.3], \"y0\": \" \", \"yaxis\": \"y\"}],\n",
       "                        {\"boxmode\": \"group\", \"height\": 600, \"legend\": {\"tracegroupgap\": 0}, \"margin\": {\"t\": 60}, \"template\": {\"data\": {\"bar\": [{\"error_x\": {\"color\": \"#2a3f5f\"}, \"error_y\": {\"color\": \"#2a3f5f\"}, \"marker\": {\"line\": {\"color\": \"#E5ECF6\", \"width\": 0.5}}, \"type\": \"bar\"}], \"barpolar\": [{\"marker\": {\"line\": {\"color\": \"#E5ECF6\", \"width\": 0.5}}, \"type\": \"barpolar\"}], \"carpet\": [{\"aaxis\": {\"endlinecolor\": \"#2a3f5f\", \"gridcolor\": \"white\", \"linecolor\": \"white\", \"minorgridcolor\": \"white\", \"startlinecolor\": \"#2a3f5f\"}, \"baxis\": {\"endlinecolor\": \"#2a3f5f\", \"gridcolor\": \"white\", \"linecolor\": \"white\", \"minorgridcolor\": \"white\", \"startlinecolor\": \"#2a3f5f\"}, \"type\": \"carpet\"}], \"choropleth\": [{\"colorbar\": {\"outlinewidth\": 0, \"ticks\": \"\"}, \"type\": \"choropleth\"}], \"contour\": [{\"colorbar\": {\"outlinewidth\": 0, \"ticks\": \"\"}, \"colorscale\": [[0.0, \"#0d0887\"], [0.1111111111111111, \"#46039f\"], [0.2222222222222222, \"#7201a8\"], [0.3333333333333333, \"#9c179e\"], [0.4444444444444444, \"#bd3786\"], [0.5555555555555556, \"#d8576b\"], [0.6666666666666666, \"#ed7953\"], [0.7777777777777778, \"#fb9f3a\"], [0.8888888888888888, \"#fdca26\"], [1.0, \"#f0f921\"]], \"type\": \"contour\"}], \"contourcarpet\": [{\"colorbar\": {\"outlinewidth\": 0, \"ticks\": \"\"}, \"type\": \"contourcarpet\"}], \"heatmap\": [{\"colorbar\": {\"outlinewidth\": 0, \"ticks\": \"\"}, \"colorscale\": [[0.0, \"#0d0887\"], [0.1111111111111111, \"#46039f\"], [0.2222222222222222, \"#7201a8\"], [0.3333333333333333, \"#9c179e\"], [0.4444444444444444, \"#bd3786\"], [0.5555555555555556, \"#d8576b\"], [0.6666666666666666, \"#ed7953\"], [0.7777777777777778, \"#fb9f3a\"], [0.8888888888888888, \"#fdca26\"], [1.0, \"#f0f921\"]], \"type\": \"heatmap\"}], \"heatmapgl\": [{\"colorbar\": {\"outlinewidth\": 0, \"ticks\": \"\"}, \"colorscale\": [[0.0, \"#0d0887\"], [0.1111111111111111, \"#46039f\"], [0.2222222222222222, \"#7201a8\"], [0.3333333333333333, \"#9c179e\"], [0.4444444444444444, \"#bd3786\"], [0.5555555555555556, \"#d8576b\"], [0.6666666666666666, \"#ed7953\"], [0.7777777777777778, \"#fb9f3a\"], [0.8888888888888888, \"#fdca26\"], [1.0, \"#f0f921\"]], \"type\": \"heatmapgl\"}], \"histogram\": [{\"marker\": {\"colorbar\": {\"outlinewidth\": 0, \"ticks\": \"\"}}, \"type\": \"histogram\"}], \"histogram2d\": [{\"colorbar\": {\"outlinewidth\": 0, \"ticks\": \"\"}, \"colorscale\": [[0.0, \"#0d0887\"], [0.1111111111111111, \"#46039f\"], [0.2222222222222222, \"#7201a8\"], [0.3333333333333333, \"#9c179e\"], [0.4444444444444444, \"#bd3786\"], [0.5555555555555556, \"#d8576b\"], [0.6666666666666666, \"#ed7953\"], [0.7777777777777778, \"#fb9f3a\"], [0.8888888888888888, \"#fdca26\"], [1.0, \"#f0f921\"]], \"type\": \"histogram2d\"}], \"histogram2dcontour\": [{\"colorbar\": {\"outlinewidth\": 0, \"ticks\": \"\"}, \"colorscale\": [[0.0, \"#0d0887\"], [0.1111111111111111, \"#46039f\"], [0.2222222222222222, \"#7201a8\"], [0.3333333333333333, \"#9c179e\"], [0.4444444444444444, \"#bd3786\"], [0.5555555555555556, \"#d8576b\"], [0.6666666666666666, \"#ed7953\"], [0.7777777777777778, \"#fb9f3a\"], [0.8888888888888888, \"#fdca26\"], [1.0, \"#f0f921\"]], \"type\": \"histogram2dcontour\"}], \"mesh3d\": [{\"colorbar\": {\"outlinewidth\": 0, \"ticks\": \"\"}, \"type\": \"mesh3d\"}], \"parcoords\": [{\"line\": {\"colorbar\": {\"outlinewidth\": 0, \"ticks\": \"\"}}, \"type\": \"parcoords\"}], \"scatter\": [{\"marker\": {\"colorbar\": {\"outlinewidth\": 0, \"ticks\": \"\"}}, \"type\": \"scatter\"}], \"scatter3d\": [{\"line\": {\"colorbar\": {\"outlinewidth\": 0, \"ticks\": \"\"}}, \"marker\": {\"colorbar\": {\"outlinewidth\": 0, \"ticks\": \"\"}}, \"type\": \"scatter3d\"}], \"scattercarpet\": [{\"marker\": {\"colorbar\": {\"outlinewidth\": 0, \"ticks\": \"\"}}, \"type\": \"scattercarpet\"}], \"scattergeo\": [{\"marker\": {\"colorbar\": {\"outlinewidth\": 0, \"ticks\": \"\"}}, \"type\": \"scattergeo\"}], \"scattergl\": [{\"marker\": {\"colorbar\": {\"outlinewidth\": 0, \"ticks\": \"\"}}, \"type\": \"scattergl\"}], \"scattermapbox\": [{\"marker\": {\"colorbar\": {\"outlinewidth\": 0, \"ticks\": \"\"}}, \"type\": \"scattermapbox\"}], \"scatterpolar\": [{\"marker\": {\"colorbar\": {\"outlinewidth\": 0, \"ticks\": \"\"}}, \"type\": \"scatterpolar\"}], \"scatterpolargl\": [{\"marker\": {\"colorbar\": {\"outlinewidth\": 0, \"ticks\": \"\"}}, \"type\": \"scatterpolargl\"}], \"scatterternary\": [{\"marker\": {\"colorbar\": {\"outlinewidth\": 0, \"ticks\": \"\"}}, \"type\": \"scatterternary\"}], \"surface\": [{\"colorbar\": {\"outlinewidth\": 0, \"ticks\": \"\"}, \"colorscale\": [[0.0, \"#0d0887\"], [0.1111111111111111, \"#46039f\"], [0.2222222222222222, \"#7201a8\"], [0.3333333333333333, \"#9c179e\"], [0.4444444444444444, \"#bd3786\"], [0.5555555555555556, \"#d8576b\"], [0.6666666666666666, \"#ed7953\"], [0.7777777777777778, \"#fb9f3a\"], [0.8888888888888888, \"#fdca26\"], [1.0, \"#f0f921\"]], \"type\": \"surface\"}], \"table\": [{\"cells\": {\"fill\": {\"color\": \"#EBF0F8\"}, \"line\": {\"color\": \"white\"}}, \"header\": {\"fill\": {\"color\": \"#C8D4E3\"}, \"line\": {\"color\": \"white\"}}, \"type\": \"table\"}]}, \"layout\": {\"annotationdefaults\": {\"arrowcolor\": \"#2a3f5f\", \"arrowhead\": 0, \"arrowwidth\": 1}, \"colorscale\": {\"diverging\": [[0, \"#8e0152\"], [0.1, \"#c51b7d\"], [0.2, \"#de77ae\"], [0.3, \"#f1b6da\"], [0.4, \"#fde0ef\"], [0.5, \"#f7f7f7\"], [0.6, \"#e6f5d0\"], [0.7, \"#b8e186\"], [0.8, \"#7fbc41\"], [0.9, \"#4d9221\"], [1, \"#276419\"]], \"sequential\": [[0.0, \"#0d0887\"], [0.1111111111111111, \"#46039f\"], [0.2222222222222222, \"#7201a8\"], [0.3333333333333333, \"#9c179e\"], [0.4444444444444444, \"#bd3786\"], [0.5555555555555556, \"#d8576b\"], [0.6666666666666666, \"#ed7953\"], [0.7777777777777778, \"#fb9f3a\"], [0.8888888888888888, \"#fdca26\"], [1.0, \"#f0f921\"]], \"sequentialminus\": [[0.0, \"#0d0887\"], [0.1111111111111111, \"#46039f\"], [0.2222222222222222, \"#7201a8\"], [0.3333333333333333, \"#9c179e\"], [0.4444444444444444, \"#bd3786\"], [0.5555555555555556, \"#d8576b\"], [0.6666666666666666, \"#ed7953\"], [0.7777777777777778, \"#fb9f3a\"], [0.8888888888888888, \"#fdca26\"], [1.0, \"#f0f921\"]]}, \"colorway\": [\"#636efa\", \"#EF553B\", \"#00cc96\", \"#ab63fa\", \"#FFA15A\", \"#19d3f3\", \"#FF6692\", \"#B6E880\", \"#FF97FF\", \"#FECB52\"], \"font\": {\"color\": \"#2a3f5f\"}, \"geo\": {\"bgcolor\": \"white\", \"lakecolor\": \"white\", \"landcolor\": \"#E5ECF6\", \"showlakes\": true, \"showland\": true, \"subunitcolor\": \"white\"}, \"hoverlabel\": {\"align\": \"left\"}, \"hovermode\": \"closest\", \"mapbox\": {\"style\": \"light\"}, \"paper_bgcolor\": \"white\", \"plot_bgcolor\": \"#E5ECF6\", \"polar\": {\"angularaxis\": {\"gridcolor\": \"white\", \"linecolor\": \"white\", \"ticks\": \"\"}, \"bgcolor\": \"#E5ECF6\", \"radialaxis\": {\"gridcolor\": \"white\", \"linecolor\": \"white\", \"ticks\": \"\"}}, \"scene\": {\"xaxis\": {\"backgroundcolor\": \"#E5ECF6\", \"gridcolor\": \"white\", \"gridwidth\": 2, \"linecolor\": \"white\", \"showbackground\": true, \"ticks\": \"\", \"zerolinecolor\": \"white\"}, \"yaxis\": {\"backgroundcolor\": \"#E5ECF6\", \"gridcolor\": \"white\", \"gridwidth\": 2, \"linecolor\": \"white\", \"showbackground\": true, \"ticks\": \"\", \"zerolinecolor\": \"white\"}, \"zaxis\": {\"backgroundcolor\": \"#E5ECF6\", \"gridcolor\": \"white\", \"gridwidth\": 2, \"linecolor\": \"white\", \"showbackground\": true, \"ticks\": \"\", \"zerolinecolor\": \"white\"}}, \"shapedefaults\": {\"line\": {\"color\": \"#2a3f5f\"}}, \"ternary\": {\"aaxis\": {\"gridcolor\": \"white\", \"linecolor\": \"white\", \"ticks\": \"\"}, \"baxis\": {\"gridcolor\": \"white\", \"linecolor\": \"white\", \"ticks\": \"\"}, \"bgcolor\": \"#E5ECF6\", \"caxis\": {\"gridcolor\": \"white\", \"linecolor\": \"white\", \"ticks\": \"\"}}, \"title\": {\"x\": 0.05}, \"xaxis\": {\"automargin\": true, \"gridcolor\": \"white\", \"linecolor\": \"white\", \"ticks\": \"\", \"zerolinecolor\": \"white\", \"zerolinewidth\": 2}, \"yaxis\": {\"automargin\": true, \"gridcolor\": \"white\", \"linecolor\": \"white\", \"ticks\": \"\", \"zerolinecolor\": \"white\", \"zerolinewidth\": 2}}}, \"xaxis\": {\"anchor\": \"y\", \"categoryarray\": [\"HOU\", \"BKN\", \"POR\", \"LAC\", \"MIL\", \"WAS\", \"MIN\", \"DAL\", \"LAL\", \"PHX\", \"BOS\", \"NOP\", \"TOR\", \"UTA\", \"PHI\", \"ATL\", \"IND\", \"OKC\", \"DET\", \"SAS\", \"CHI\", \"MEM\", \"GSW\", \"DEN\", \"CLE\", \"SAC\", \"MIA\", \"NYK\", \"CHA\", \"ORL\"], \"categoryorder\": \"array\", \"domain\": [0.0, 0.98], \"title\": {\"text\": \"TEAM\"}}, \"yaxis\": {\"anchor\": \"x\", \"domain\": [0.0, 1.0], \"title\": {\"text\": \"PTS\"}}},\n",
       "                        {\"responsive\": true}\n",
       "                    ).then(function(){\n",
       "                            \n",
       "var gd = document.getElementById('509e1f9e-7a96-4a54-b1e0-fd38357380c8');\n",
       "var x = new MutationObserver(function (mutations, observer) {{\n",
       "        var display = window.getComputedStyle(gd).display;\n",
       "        if (!display || display === 'none') {{\n",
       "            console.log([gd, 'removed!']);\n",
       "            Plotly.purge(gd);\n",
       "            observer.disconnect();\n",
       "        }}\n",
       "}});\n",
       "\n",
       "// Listen for the removal of the full notebook cells\n",
       "var notebookContainer = gd.closest('#notebook-container');\n",
       "if (notebookContainer) {{\n",
       "    x.observe(notebookContainer, {childList: true});\n",
       "}}\n",
       "\n",
       "// Listen for the clearing of the current output cell\n",
       "var outputEl = gd.closest('.output');\n",
       "if (outputEl) {{\n",
       "    x.observe(outputEl, {childList: true});\n",
       "}}\n",
       "\n",
       "                        })\n",
       "                };\n",
       "                });\n",
       "            </script>\n",
       "        </div>"
      ]
     },
     "metadata": {},
     "output_type": "display_data"
    }
   ],
   "source": [
    "# FYI: figure wont run in github\n",
    "fig = px.box(df, y=\"PTS\",x=\"TEAM\",color=\"TEAM\")\n",
    "fig.show()"
   ]
  },
  {
   "cell_type": "code",
   "execution_count": 44,
   "metadata": {},
   "outputs": [
    {
     "data": {
      "text/plain": [
       "<matplotlib.axes._subplots.AxesSubplot at 0x1a5389202b0>"
      ]
     },
     "execution_count": 44,
     "metadata": {},
     "output_type": "execute_result"
    },
    {
     "data": {
      "image/png": "[encoded data removed]",
      "text/plain": [
       "<Figure size 4800x1800 with 1 Axes>"
      ]
     },
     "metadata": {},
     "output_type": "display_data"
    }
   ],
   "source": [
    "sns.set(style=\"darkgrid\")\n",
    "\n",
    "plt.figure(figsize=(16, 6),dpi=300)\n",
    "\n",
    "sns.boxplot(x=\"TEAM\",y=\"PTS\",data=df)"
   ]
  },
  {
   "cell_type": "code",
   "execution_count": null,
   "metadata": {},
   "outputs": [],
   "source": []
  }
 ],
 "metadata": {
  "kernelspec": {
   "display_name": "Python 3",
   "language": "python",
   "name": "python3"
  },
  "language_info": {
   "codemirror_mode": {
    "name": "ipython",
    "version": 3
   },
   "file_extension": ".py",
   "mimetype": "text/x-python",
   "name": "python",
   "nbconvert_exporter": "python",
   "pygments_lexer": "ipython3",
   "version": "3.7.3"
  }
 },
 "nbformat": 4,
 "nbformat_minor": 2
}
